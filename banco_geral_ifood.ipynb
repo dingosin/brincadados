{
 "cells": [
  {
   "cell_type": "code",
   "execution_count": 5,
   "id": "8bc6870a",
   "metadata": {},
   "outputs": [],
   "source": [
    "import pandas as pd\n",
    "import numpy as np\n",
    "import matplotlib.pyplot as plt\n",
    "\n",
    "df_main = pd.read_csv(\"./ifood-restaurants-november-2020.csv\", sep=\",\", header=0)\n"
   ]
  },
  {
   "cell_type": "code",
   "execution_count": 6,
   "id": "525edfee",
   "metadata": {},
   "outputs": [],
   "source": [
    "df_main = df_main.drop(columns=['avatar', 'url', 'lat', 'long'])"
   ]
  },
  {
   "cell_type": "code",
   "execution_count": 7,
   "id": "8c85bc94",
   "metadata": {},
   "outputs": [
    {
     "data": {
      "text/plain": [
       "category          object\n",
       "delivery_fee     float64\n",
       "delivery_time      int64\n",
       "distance         float64\n",
       "name              object\n",
       "price_range       object\n",
       "rating           float64\n",
       "dtype: object"
      ]
     },
     "execution_count": 7,
     "metadata": {},
     "output_type": "execute_result"
    }
   ],
   "source": [
    "df_main.dtypes"
   ]
  },
  {
   "cell_type": "code",
   "execution_count": 8,
   "id": "0faf97f5",
   "metadata": {},
   "outputs": [],
   "source": [
    "df_number = df_main[['delivery_fee', 'delivery_time', 'distance', 'rating']]\n"
   ]
  },
  {
   "cell_type": "markdown",
   "id": "bac9fffb",
   "metadata": {},
   "source": [
    "TRATAR OUTLIERS\n"
   ]
  },
  {
   "cell_type": "code",
   "execution_count": 9,
   "id": "6cdbd4a3",
   "metadata": {},
   "outputs": [
    {
     "data": {
      "text/plain": [
       "['delivery_fee', 'delivery_time', 'distance', 'rating']"
      ]
     },
     "execution_count": 9,
     "metadata": {},
     "output_type": "execute_result"
    }
   ],
   "source": [
    "df_number = df_main.select_dtypes(include=['number']).columns.tolist()\n",
    "df_number"
   ]
  },
  {
   "cell_type": "code",
   "execution_count": 10,
   "id": "2cc99df1",
   "metadata": {},
   "outputs": [
    {
     "data": {
      "text/plain": [
       "delivery_fee      4.00\n",
       "delivery_time    35.00\n",
       "distance          1.77\n",
       "rating            0.00\n",
       "Name: 0.25, dtype: float64"
      ]
     },
     "execution_count": 10,
     "metadata": {},
     "output_type": "execute_result"
    }
   ],
   "source": [
    "df_main[df_number].quantile(0.25)\n"
   ]
  },
  {
   "cell_type": "code",
   "execution_count": 11,
   "id": "9f2ca889",
   "metadata": {},
   "outputs": [
    {
     "data": {
      "text/plain": [
       "delivery_fee      8.99000\n",
       "delivery_time    60.00000\n",
       "distance          4.76000\n",
       "rating            4.75817\n",
       "Name: 0.75, dtype: float64"
      ]
     },
     "execution_count": 11,
     "metadata": {},
     "output_type": "execute_result"
    }
   ],
   "source": [
    "df_main[df_number].quantile(0.75)"
   ]
  },
  {
   "cell_type": "code",
   "execution_count": 12,
   "id": "8945333e",
   "metadata": {},
   "outputs": [
    {
     "data": {
      "text/plain": [
       "delivery_fee      4.99000\n",
       "delivery_time    25.00000\n",
       "distance          2.99000\n",
       "rating            4.75817\n",
       "dtype: float64"
      ]
     },
     "execution_count": 12,
     "metadata": {},
     "output_type": "execute_result"
    }
   ],
   "source": [
    "Q1 = df_main[df_number].quantile(0.25)\n",
    "Q3 = df_main[df_number].quantile(0.75)\n",
    "IQR = Q3 - Q1\n",
    "IQR"
   ]
  },
  {
   "cell_type": "code",
   "execution_count": 13,
   "id": "0a86d989",
   "metadata": {},
   "outputs": [
    {
     "data": {
      "text/html": [
       "<div>\n",
       "<style scoped>\n",
       "    .dataframe tbody tr th:only-of-type {\n",
       "        vertical-align: middle;\n",
       "    }\n",
       "\n",
       "    .dataframe tbody tr th {\n",
       "        vertical-align: top;\n",
       "    }\n",
       "\n",
       "    .dataframe thead th {\n",
       "        text-align: right;\n",
       "    }\n",
       "</style>\n",
       "<table border=\"1\" class=\"dataframe\">\n",
       "  <thead>\n",
       "    <tr style=\"text-align: right;\">\n",
       "      <th></th>\n",
       "      <th>category</th>\n",
       "      <th>delivery_fee</th>\n",
       "      <th>delivery_time</th>\n",
       "      <th>distance</th>\n",
       "      <th>name</th>\n",
       "      <th>price_range</th>\n",
       "      <th>rating</th>\n",
       "    </tr>\n",
       "  </thead>\n",
       "  <tbody>\n",
       "    <tr>\n",
       "      <th>9</th>\n",
       "      <td>Marmita</td>\n",
       "      <td>8.9</td>\n",
       "      <td>120</td>\n",
       "      <td>5.32</td>\n",
       "      <td>PARMEGIANA MESTRE DO SABOR</td>\n",
       "      <td>CHEAPEST</td>\n",
       "      <td>3.37500</td>\n",
       "    </tr>\n",
       "    <tr>\n",
       "      <th>28</th>\n",
       "      <td>Pizza</td>\n",
       "      <td>10.0</td>\n",
       "      <td>55</td>\n",
       "      <td>11.08</td>\n",
       "      <td>Sophia Pizzas</td>\n",
       "      <td>MODERATE</td>\n",
       "      <td>3.96000</td>\n",
       "    </tr>\n",
       "    <tr>\n",
       "      <th>29</th>\n",
       "      <td>Saudável</td>\n",
       "      <td>7.9</td>\n",
       "      <td>120</td>\n",
       "      <td>5.32</td>\n",
       "      <td>MARMITA FIT EXPRESS SABOROSA</td>\n",
       "      <td>CHEAP</td>\n",
       "      <td>3.94118</td>\n",
       "    </tr>\n",
       "    <tr>\n",
       "      <th>37</th>\n",
       "      <td>Variada</td>\n",
       "      <td>8.0</td>\n",
       "      <td>60</td>\n",
       "      <td>9.30</td>\n",
       "      <td>Alô Quentinha</td>\n",
       "      <td>CHEAP</td>\n",
       "      <td>0.00000</td>\n",
       "    </tr>\n",
       "    <tr>\n",
       "      <th>40</th>\n",
       "      <td>Saudável</td>\n",
       "      <td>20.0</td>\n",
       "      <td>50</td>\n",
       "      <td>11.95</td>\n",
       "      <td>Light Food Way Recife</td>\n",
       "      <td>CHEAPEST</td>\n",
       "      <td>0.00000</td>\n",
       "    </tr>\n",
       "    <tr>\n",
       "      <th>...</th>\n",
       "      <td>...</td>\n",
       "      <td>...</td>\n",
       "      <td>...</td>\n",
       "      <td>...</td>\n",
       "      <td>...</td>\n",
       "      <td>...</td>\n",
       "      <td>...</td>\n",
       "    </tr>\n",
       "    <tr>\n",
       "      <th>361002</th>\n",
       "      <td>Lanches</td>\n",
       "      <td>5.0</td>\n",
       "      <td>120</td>\n",
       "      <td>5.22</td>\n",
       "      <td>Explosão Dog</td>\n",
       "      <td>CHEAPEST</td>\n",
       "      <td>4.87500</td>\n",
       "    </tr>\n",
       "    <tr>\n",
       "      <th>361151</th>\n",
       "      <td>Mercado</td>\n",
       "      <td>10.0</td>\n",
       "      <td>120</td>\n",
       "      <td>2.46</td>\n",
       "      <td>Paraná Supermercados</td>\n",
       "      <td>CHEAPEST</td>\n",
       "      <td>3.71429</td>\n",
       "    </tr>\n",
       "    <tr>\n",
       "      <th>361287</th>\n",
       "      <td>Conveniência</td>\n",
       "      <td>20.0</td>\n",
       "      <td>75</td>\n",
       "      <td>5.18</td>\n",
       "      <td>Empório Reserva da Serra</td>\n",
       "      <td>CHEAPEST</td>\n",
       "      <td>0.00000</td>\n",
       "    </tr>\n",
       "    <tr>\n",
       "      <th>361329</th>\n",
       "      <td>Pizza</td>\n",
       "      <td>6.0</td>\n",
       "      <td>45</td>\n",
       "      <td>10.51</td>\n",
       "      <td>Pizzaria Kanudinho</td>\n",
       "      <td>CHEAPEST</td>\n",
       "      <td>0.00000</td>\n",
       "    </tr>\n",
       "    <tr>\n",
       "      <th>361402</th>\n",
       "      <td>Brasileira</td>\n",
       "      <td>20.0</td>\n",
       "      <td>100</td>\n",
       "      <td>6.85</td>\n",
       "      <td>Gato Gordo</td>\n",
       "      <td>CHEAPEST</td>\n",
       "      <td>4.40000</td>\n",
       "    </tr>\n",
       "  </tbody>\n",
       "</table>\n",
       "<p>9556 rows × 7 columns</p>\n",
       "</div>"
      ],
      "text/plain": [
       "            category  delivery_fee  delivery_time  distance  \\\n",
       "9            Marmita           8.9            120      5.32   \n",
       "28             Pizza          10.0             55     11.08   \n",
       "29          Saudável           7.9            120      5.32   \n",
       "37           Variada           8.0             60      9.30   \n",
       "40          Saudável          20.0             50     11.95   \n",
       "...              ...           ...            ...       ...   \n",
       "361002       Lanches           5.0            120      5.22   \n",
       "361151       Mercado          10.0            120      2.46   \n",
       "361287  Conveniência          20.0             75      5.18   \n",
       "361329         Pizza           6.0             45     10.51   \n",
       "361402    Brasileira          20.0            100      6.85   \n",
       "\n",
       "                                name price_range   rating  \n",
       "9         PARMEGIANA MESTRE DO SABOR    CHEAPEST  3.37500  \n",
       "28                     Sophia Pizzas    MODERATE  3.96000  \n",
       "29      MARMITA FIT EXPRESS SABOROSA       CHEAP  3.94118  \n",
       "37                     Alô Quentinha       CHEAP  0.00000  \n",
       "40             Light Food Way Recife    CHEAPEST  0.00000  \n",
       "...                              ...         ...      ...  \n",
       "361002                  Explosão Dog    CHEAPEST  4.87500  \n",
       "361151          Paraná Supermercados    CHEAPEST  3.71429  \n",
       "361287      Empório Reserva da Serra    CHEAPEST  0.00000  \n",
       "361329            Pizzaria Kanudinho    CHEAPEST  0.00000  \n",
       "361402                    Gato Gordo    CHEAPEST  4.40000  \n",
       "\n",
       "[9556 rows x 7 columns]"
      ]
     },
     "execution_count": 13,
     "metadata": {},
     "output_type": "execute_result"
    }
   ],
   "source": [
    "df_main[((df_main[df_number] < (Q1 - 1.5 * IQR)) | (df_main[df_number] > (Q3 + 1.5 * IQR))).any(axis=1)]"
   ]
  },
  {
   "cell_type": "code",
   "execution_count": 14,
   "id": "87e11f7f",
   "metadata": {},
   "outputs": [],
   "source": [
    "outliers_number = df_main[((df_main[df_number] < (Q1 - 1.5 * IQR)) | (df_main[df_number] > (Q3 + 1.5 * IQR))).any(axis=1)]"
   ]
  },
  {
   "cell_type": "code",
   "execution_count": 15,
   "id": "9f3b94fe",
   "metadata": {},
   "outputs": [
    {
     "name": "stdout",
     "output_type": "stream",
     "text": [
      "Quantidade de registros na base: 361447\n",
      "Quantidade de outliers na base: 9556\n",
      "Percentual de outliers: 3.0 %\n"
     ]
    }
   ],
   "source": [
    "print(f\"Quantidade de registros na base: {len(df_main)}\")\n",
    "print(f\"Quantidade de outliers na base: {len(outliers_number)}\")\n",
    "print(f\"Percentual de outliers: {np.round(100*len(outliers_number)/len(df_main), 0)} %\")"
   ]
  },
  {
   "cell_type": "code",
   "execution_count": 16,
   "id": "18ff088f",
   "metadata": {},
   "outputs": [],
   "source": [
    "df_pure = df_main[~((df_main[df_number] < (Q1 - 1.5 * IQR)) | (df_main[df_number] > (Q3 + 1.5 * IQR))).any(axis=1)]"
   ]
  },
  {
   "cell_type": "code",
   "execution_count": 17,
   "id": "04874610",
   "metadata": {},
   "outputs": [
    {
     "data": {
      "text/html": [
       "<div>\n",
       "<style scoped>\n",
       "    .dataframe tbody tr th:only-of-type {\n",
       "        vertical-align: middle;\n",
       "    }\n",
       "\n",
       "    .dataframe tbody tr th {\n",
       "        vertical-align: top;\n",
       "    }\n",
       "\n",
       "    .dataframe thead th {\n",
       "        text-align: right;\n",
       "    }\n",
       "</style>\n",
       "<table border=\"1\" class=\"dataframe\">\n",
       "  <thead>\n",
       "    <tr style=\"text-align: right;\">\n",
       "      <th></th>\n",
       "      <th>category</th>\n",
       "      <th>delivery_fee</th>\n",
       "      <th>delivery_time</th>\n",
       "      <th>distance</th>\n",
       "      <th>name</th>\n",
       "      <th>price_range</th>\n",
       "      <th>rating</th>\n",
       "    </tr>\n",
       "  </thead>\n",
       "  <tbody>\n",
       "    <tr>\n",
       "      <th>0</th>\n",
       "      <td>Lanches</td>\n",
       "      <td>9.0</td>\n",
       "      <td>80</td>\n",
       "      <td>6.20</td>\n",
       "      <td>El'moedor</td>\n",
       "      <td>CHEAP</td>\n",
       "      <td>4.30303</td>\n",
       "    </tr>\n",
       "    <tr>\n",
       "      <th>1</th>\n",
       "      <td>Doces &amp; Bolos</td>\n",
       "      <td>6.0</td>\n",
       "      <td>35</td>\n",
       "      <td>3.03</td>\n",
       "      <td>Delicia de Brigadeiro</td>\n",
       "      <td>CHEAPEST</td>\n",
       "      <td>0.00000</td>\n",
       "    </tr>\n",
       "  </tbody>\n",
       "</table>\n",
       "</div>"
      ],
      "text/plain": [
       "        category  delivery_fee  delivery_time  distance  \\\n",
       "0        Lanches           9.0             80      6.20   \n",
       "1  Doces & Bolos           6.0             35      3.03   \n",
       "\n",
       "                    name price_range   rating  \n",
       "0              El'moedor       CHEAP  4.30303  \n",
       "1  Delicia de Brigadeiro    CHEAPEST  0.00000  "
      ]
     },
     "execution_count": 17,
     "metadata": {},
     "output_type": "execute_result"
    }
   ],
   "source": [
    "df_pure.head(2)"
   ]
  },
  {
   "cell_type": "code",
   "execution_count": 21,
   "id": "6b2593d1",
   "metadata": {},
   "outputs": [
    {
     "data": {
      "text/plain": [
       "['delivery_fee', 'delivery_time', 'distance', 'rating']"
      ]
     },
     "execution_count": 21,
     "metadata": {},
     "output_type": "execute_result"
    }
   ],
   "source": [
    "pure_number = df_pure.select_dtypes(include=['number']).columns.tolist()\n",
    "pure_number"
   ]
  },
  {
   "cell_type": "code",
   "execution_count": null,
   "id": "220546a8",
   "metadata": {},
   "outputs": [],
   "source": []
  },
  {
   "cell_type": "code",
   "execution_count": 23,
   "id": "764d4d8c",
   "metadata": {},
   "outputs": [
    {
     "name": "stdout",
     "output_type": "stream",
     "text": [
      "Estatísticas para delivery_fee:\n",
      "Média: 6.321222253481903\n",
      "Mediana: 5.99\n",
      "\n",
      "Estatísticas para delivery_time:\n",
      "Média: 46.736580361532404\n",
      "Mediana: 45.0\n",
      "\n",
      "Estatísticas para distance:\n",
      "Média: 3.2671484067509544\n",
      "Mediana: 3.01\n",
      "\n",
      "Estatísticas para rating:\n",
      "Média: 2.761790302810581\n",
      "Mediana: 4.222219944000243\n",
      "\n"
     ]
    }
   ],
   "source": [
    "for variavel in df_pure[pure_number]:\n",
    "    media = df_pure[variavel].mean()\n",
    "    mediana = df_pure[variavel].median()\n",
    "    print(f\"Estatísticas para {variavel}:\") \n",
    "    print(f\"Média: {media}\") \n",
    "    print(f\"Mediana: {mediana}\\n\")"
   ]
  },
  {
   "cell_type": "code",
   "execution_count": 25,
   "id": "6ad91977",
   "metadata": {},
   "outputs": [
    {
     "name": "stdout",
     "output_type": "stream",
     "text": [
      "A amplitude da variável delivery_fee é: 16.2\n",
      "A amplitude da variável delivery_time é: 97\n",
      "A amplitude da variável distance é: 9.23\n",
      "A amplitude da variável rating é: 5.0\n"
     ]
    }
   ],
   "source": [
    "for variavel in df_pure[pure_number]:\n",
    "    # Calcula a amplitude\n",
    "    amplitude = df_pure[variavel].max() - df_pure[variavel].min()\n",
    "\n",
    "    # Imprime o resultado\n",
    "    print(f\"A amplitude da variável {variavel} é:\", amplitude)"
   ]
  },
  {
   "cell_type": "code",
   "execution_count": null,
   "id": "eddac0ec",
   "metadata": {},
   "outputs": [],
   "source": []
  }
 ],
 "metadata": {
  "kernelspec": {
   "display_name": "Python 3",
   "language": "python",
   "name": "python3"
  },
  "language_info": {
   "codemirror_mode": {
    "name": "ipython",
    "version": 3
   },
   "file_extension": ".py",
   "mimetype": "text/x-python",
   "name": "python",
   "nbconvert_exporter": "python",
   "pygments_lexer": "ipython3",
   "version": "3.13.1"
  }
 },
 "nbformat": 4,
 "nbformat_minor": 5
}
