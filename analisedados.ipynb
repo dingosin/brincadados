{
 "cells": [
  {
   "cell_type": "markdown",
   "id": "88e52cee",
   "metadata": {},
   "source": [
    "Importando Dados e blibiotecas\n"
   ]
  },
  {
   "cell_type": "code",
   "execution_count": 3,
   "id": "5f9e6b16",
   "metadata": {},
   "outputs": [],
   "source": [
    "import pandas as pd\n",
    "import seaborn as sns\n",
    "import matplotlib.pyplot as plt"
   ]
  },
  {
   "cell_type": "code",
   "execution_count": 4,
   "id": "0745fef9",
   "metadata": {},
   "outputs": [],
   "source": [
    "dfclientes= pd.read_csv(\"./clientes.csv\", sep=\",\",header=0)\n",
    "dfpedidos= pd.read_csv(\"./pedidos.csv\", sep=\",\",header=0)\n",
    "dfprodutos= pd.read_csv(\"./produtos.csv\", sep=\",\",header=0)\n",
    "dfvendas = pd.read_csv(\"./vendas.csv\", sep=\",\",header=0)\n",
    "pd.set_option('display.float_format', '{:.2f}'.format)"
   ]
  },
  {
   "cell_type": "markdown",
   "id": "f7243c2d",
   "metadata": {},
   "source": [
    "Visualizando os Dataframes."
   ]
  },
  {
   "cell_type": "code",
   "execution_count": 5,
   "id": "23afe7b8",
   "metadata": {},
   "outputs": [
    {
     "data": {
      "text/html": [
       "<div>\n",
       "<style scoped>\n",
       "    .dataframe tbody tr th:only-of-type {\n",
       "        vertical-align: middle;\n",
       "    }\n",
       "\n",
       "    .dataframe tbody tr th {\n",
       "        vertical-align: top;\n",
       "    }\n",
       "\n",
       "    .dataframe thead th {\n",
       "        text-align: right;\n",
       "    }\n",
       "</style>\n",
       "<table border=\"1\" class=\"dataframe\">\n",
       "  <thead>\n",
       "    <tr style=\"text-align: right;\">\n",
       "      <th></th>\n",
       "      <th>id_cliente</th>\n",
       "      <th>razao_social</th>\n",
       "      <th>pais</th>\n",
       "      <th>uf</th>\n",
       "      <th>municipio</th>\n",
       "    </tr>\n",
       "  </thead>\n",
       "  <tbody>\n",
       "    <tr>\n",
       "      <th>0</th>\n",
       "      <td>7082</td>\n",
       "      <td>Silveira</td>\n",
       "      <td>BRASIL</td>\n",
       "      <td>MG</td>\n",
       "      <td>COROMANDEL</td>\n",
       "    </tr>\n",
       "    <tr>\n",
       "      <th>1</th>\n",
       "      <td>4951</td>\n",
       "      <td>Cunha - Me</td>\n",
       "      <td>BRASIL</td>\n",
       "      <td>AC</td>\n",
       "      <td>CRUZEIRO DO SUL</td>\n",
       "    </tr>\n",
       "    <tr>\n",
       "      <th>2</th>\n",
       "      <td>2560</td>\n",
       "      <td>Da Cunha Gonçalves - Ei</td>\n",
       "      <td>BRASIL</td>\n",
       "      <td>AC</td>\n",
       "      <td>BUJARI</td>\n",
       "    </tr>\n",
       "    <tr>\n",
       "      <th>3</th>\n",
       "      <td>23880</td>\n",
       "      <td>Mendes</td>\n",
       "      <td>BRASIL</td>\n",
       "      <td>AC</td>\n",
       "      <td>RIO BRANCO</td>\n",
       "    </tr>\n",
       "    <tr>\n",
       "      <th>4</th>\n",
       "      <td>17500</td>\n",
       "      <td>Da Rosa</td>\n",
       "      <td>BRASIL</td>\n",
       "      <td>MG</td>\n",
       "      <td>EXTREMA</td>\n",
       "    </tr>\n",
       "    <tr>\n",
       "      <th>...</th>\n",
       "      <td>...</td>\n",
       "      <td>...</td>\n",
       "      <td>...</td>\n",
       "      <td>...</td>\n",
       "      <td>...</td>\n",
       "    </tr>\n",
       "    <tr>\n",
       "      <th>30127</th>\n",
       "      <td>5380</td>\n",
       "      <td>Pacheco S/A</td>\n",
       "      <td>BRASIL</td>\n",
       "      <td>SC</td>\n",
       "      <td>JARAGUA DO SUL</td>\n",
       "    </tr>\n",
       "    <tr>\n",
       "      <th>30128</th>\n",
       "      <td>25446</td>\n",
       "      <td>Viana</td>\n",
       "      <td>BRASIL</td>\n",
       "      <td>SC</td>\n",
       "      <td>CRICIUMA</td>\n",
       "    </tr>\n",
       "    <tr>\n",
       "      <th>30129</th>\n",
       "      <td>9218</td>\n",
       "      <td>Ramos Das Neves Ltda.</td>\n",
       "      <td>BRASIL</td>\n",
       "      <td>RS</td>\n",
       "      <td>CAXIAS DO SUL</td>\n",
       "    </tr>\n",
       "    <tr>\n",
       "      <th>30130</th>\n",
       "      <td>29113</td>\n",
       "      <td>Farias</td>\n",
       "      <td>BRASIL</td>\n",
       "      <td>PR</td>\n",
       "      <td>CURITIBA</td>\n",
       "    </tr>\n",
       "    <tr>\n",
       "      <th>30131</th>\n",
       "      <td>10097</td>\n",
       "      <td>Rios</td>\n",
       "      <td>BRASIL</td>\n",
       "      <td>SC</td>\n",
       "      <td>PAPANDUVA</td>\n",
       "    </tr>\n",
       "  </tbody>\n",
       "</table>\n",
       "<p>30132 rows × 5 columns</p>\n",
       "</div>"
      ],
      "text/plain": [
       "       id_cliente             razao_social    pais  uf        municipio\n",
       "0            7082                 Silveira  BRASIL  MG       COROMANDEL\n",
       "1            4951               Cunha - Me  BRASIL  AC  CRUZEIRO DO SUL\n",
       "2            2560  Da Cunha Gonçalves - Ei  BRASIL  AC           BUJARI\n",
       "3           23880                   Mendes  BRASIL  AC       RIO BRANCO\n",
       "4           17500                  Da Rosa  BRASIL  MG          EXTREMA\n",
       "...           ...                      ...     ...  ..              ...\n",
       "30127        5380              Pacheco S/A  BRASIL  SC   JARAGUA DO SUL\n",
       "30128       25446                    Viana  BRASIL  SC         CRICIUMA\n",
       "30129        9218    Ramos Das Neves Ltda.  BRASIL  RS    CAXIAS DO SUL\n",
       "30130       29113                   Farias  BRASIL  PR         CURITIBA\n",
       "30131       10097                     Rios  BRASIL  SC        PAPANDUVA\n",
       "\n",
       "[30132 rows x 5 columns]"
      ]
     },
     "execution_count": 5,
     "metadata": {},
     "output_type": "execute_result"
    }
   ],
   "source": [
    "dfclientes"
   ]
  },
  {
   "cell_type": "code",
   "execution_count": 6,
   "id": "7511e932",
   "metadata": {},
   "outputs": [
    {
     "data": {
      "text/html": [
       "<div>\n",
       "<style scoped>\n",
       "    .dataframe tbody tr th:only-of-type {\n",
       "        vertical-align: middle;\n",
       "    }\n",
       "\n",
       "    .dataframe tbody tr th {\n",
       "        vertical-align: top;\n",
       "    }\n",
       "\n",
       "    .dataframe thead th {\n",
       "        text-align: right;\n",
       "    }\n",
       "</style>\n",
       "<table border=\"1\" class=\"dataframe\">\n",
       "  <thead>\n",
       "    <tr style=\"text-align: right;\">\n",
       "      <th></th>\n",
       "      <th>id_pedido</th>\n",
       "      <th>id_produto</th>\n",
       "      <th>item</th>\n",
       "      <th>quantidade</th>\n",
       "      <th>desconto</th>\n",
       "    </tr>\n",
       "  </thead>\n",
       "  <tbody>\n",
       "    <tr>\n",
       "      <th>0</th>\n",
       "      <td>219412</td>\n",
       "      <td>1163</td>\n",
       "      <td>1</td>\n",
       "      <td>12</td>\n",
       "      <td>0.00</td>\n",
       "    </tr>\n",
       "    <tr>\n",
       "      <th>1</th>\n",
       "      <td>840661</td>\n",
       "      <td>76569</td>\n",
       "      <td>8</td>\n",
       "      <td>12</td>\n",
       "      <td>-0.19</td>\n",
       "    </tr>\n",
       "    <tr>\n",
       "      <th>2</th>\n",
       "      <td>834381</td>\n",
       "      <td>59833</td>\n",
       "      <td>4</td>\n",
       "      <td>12</td>\n",
       "      <td>-0.15</td>\n",
       "    </tr>\n",
       "    <tr>\n",
       "      <th>3</th>\n",
       "      <td>830692</td>\n",
       "      <td>832</td>\n",
       "      <td>3</td>\n",
       "      <td>12</td>\n",
       "      <td>0.00</td>\n",
       "    </tr>\n",
       "    <tr>\n",
       "      <th>4</th>\n",
       "      <td>230829</td>\n",
       "      <td>21977</td>\n",
       "      <td>2</td>\n",
       "      <td>60</td>\n",
       "      <td>-0.08</td>\n",
       "    </tr>\n",
       "    <tr>\n",
       "      <th>...</th>\n",
       "      <td>...</td>\n",
       "      <td>...</td>\n",
       "      <td>...</td>\n",
       "      <td>...</td>\n",
       "      <td>...</td>\n",
       "    </tr>\n",
       "    <tr>\n",
       "      <th>2024431</th>\n",
       "      <td>498880</td>\n",
       "      <td>20977</td>\n",
       "      <td>1</td>\n",
       "      <td>12</td>\n",
       "      <td>0.00</td>\n",
       "    </tr>\n",
       "    <tr>\n",
       "      <th>2024432</th>\n",
       "      <td>435570</td>\n",
       "      <td>24621</td>\n",
       "      <td>3</td>\n",
       "      <td>12</td>\n",
       "      <td>0.00</td>\n",
       "    </tr>\n",
       "    <tr>\n",
       "      <th>2024433</th>\n",
       "      <td>838647</td>\n",
       "      <td>65044</td>\n",
       "      <td>4</td>\n",
       "      <td>12</td>\n",
       "      <td>0.00</td>\n",
       "    </tr>\n",
       "    <tr>\n",
       "      <th>2024434</th>\n",
       "      <td>435621</td>\n",
       "      <td>43756</td>\n",
       "      <td>5</td>\n",
       "      <td>12</td>\n",
       "      <td>0.00</td>\n",
       "    </tr>\n",
       "    <tr>\n",
       "      <th>2024435</th>\n",
       "      <td>831657</td>\n",
       "      <td>69483</td>\n",
       "      <td>2</td>\n",
       "      <td>12</td>\n",
       "      <td>0.00</td>\n",
       "    </tr>\n",
       "  </tbody>\n",
       "</table>\n",
       "<p>2024436 rows × 5 columns</p>\n",
       "</div>"
      ],
      "text/plain": [
       "         id_pedido  id_produto  item  quantidade  desconto\n",
       "0           219412        1163     1          12      0.00\n",
       "1           840661       76569     8          12     -0.19\n",
       "2           834381       59833     4          12     -0.15\n",
       "3           830692         832     3          12      0.00\n",
       "4           230829       21977     2          60     -0.08\n",
       "...            ...         ...   ...         ...       ...\n",
       "2024431     498880       20977     1          12      0.00\n",
       "2024432     435570       24621     3          12      0.00\n",
       "2024433     838647       65044     4          12      0.00\n",
       "2024434     435621       43756     5          12      0.00\n",
       "2024435     831657       69483     2          12      0.00\n",
       "\n",
       "[2024436 rows x 5 columns]"
      ]
     },
     "execution_count": 6,
     "metadata": {},
     "output_type": "execute_result"
    }
   ],
   "source": [
    "dfpedidos"
   ]
  },
  {
   "cell_type": "code",
   "execution_count": 7,
   "id": "17db779b",
   "metadata": {},
   "outputs": [
    {
     "data": {
      "text/html": [
       "<div>\n",
       "<style scoped>\n",
       "    .dataframe tbody tr th:only-of-type {\n",
       "        vertical-align: middle;\n",
       "    }\n",
       "\n",
       "    .dataframe tbody tr th {\n",
       "        vertical-align: top;\n",
       "    }\n",
       "\n",
       "    .dataframe thead th {\n",
       "        text-align: right;\n",
       "    }\n",
       "</style>\n",
       "<table border=\"1\" class=\"dataframe\">\n",
       "  <thead>\n",
       "    <tr style=\"text-align: right;\">\n",
       "      <th></th>\n",
       "      <th>id_produto</th>\n",
       "      <th>tipo_produto</th>\n",
       "      <th>material</th>\n",
       "      <th>cor</th>\n",
       "      <th>preco</th>\n",
       "    </tr>\n",
       "  </thead>\n",
       "  <tbody>\n",
       "    <tr>\n",
       "      <th>0</th>\n",
       "      <td>1163</td>\n",
       "      <td>TÊNIS</td>\n",
       "      <td>GASPEA PRONTA LINHO LISBOA</td>\n",
       "      <td>PRETO</td>\n",
       "      <td>75.95</td>\n",
       "    </tr>\n",
       "    <tr>\n",
       "      <th>1</th>\n",
       "      <td>76569</td>\n",
       "      <td>SANDÁLIAS</td>\n",
       "      <td>PELICA/NAPA PELE STRECH</td>\n",
       "      <td>BRANCO OFF</td>\n",
       "      <td>59.97</td>\n",
       "    </tr>\n",
       "    <tr>\n",
       "      <th>2</th>\n",
       "      <td>59833</td>\n",
       "      <td>SANDÁLIAS</td>\n",
       "      <td>NAPA TURIM</td>\n",
       "      <td>PRETO</td>\n",
       "      <td>48.42</td>\n",
       "    </tr>\n",
       "    <tr>\n",
       "      <th>3</th>\n",
       "      <td>832</td>\n",
       "      <td>FLATS</td>\n",
       "      <td>TIRA PRONTA CAMURCA FLEX</td>\n",
       "      <td>PRETO</td>\n",
       "      <td>39.48</td>\n",
       "    </tr>\n",
       "    <tr>\n",
       "      <th>4</th>\n",
       "      <td>21977</td>\n",
       "      <td>SANDÁLIAS</td>\n",
       "      <td>NAPA TURIM/TIRA PRONTA STRASS</td>\n",
       "      <td>CRISTAL/CREME/BRANCO OFF</td>\n",
       "      <td>57.32</td>\n",
       "    </tr>\n",
       "    <tr>\n",
       "      <th>...</th>\n",
       "      <td>...</td>\n",
       "      <td>...</td>\n",
       "      <td>...</td>\n",
       "      <td>...</td>\n",
       "      <td>...</td>\n",
       "    </tr>\n",
       "    <tr>\n",
       "      <th>56204</th>\n",
       "      <td>76959</td>\n",
       "      <td>SAPATOS</td>\n",
       "      <td>NAPA FLOATHER NATURE</td>\n",
       "      <td>ARGILA</td>\n",
       "      <td>94.19</td>\n",
       "    </tr>\n",
       "    <tr>\n",
       "      <th>56205</th>\n",
       "      <td>78331</td>\n",
       "      <td>SAPATOS</td>\n",
       "      <td>NAPA TURIM</td>\n",
       "      <td>PRETO</td>\n",
       "      <td>42.67</td>\n",
       "    </tr>\n",
       "    <tr>\n",
       "      <th>56206</th>\n",
       "      <td>76606</td>\n",
       "      <td>TÊNIS</td>\n",
       "      <td>NAPA LINHO GLAM/METALIZADO PREMIUM</td>\n",
       "      <td>NUDE/OURO ROSADO</td>\n",
       "      <td>62.58</td>\n",
       "    </tr>\n",
       "    <tr>\n",
       "      <th>56207</th>\n",
       "      <td>78063</td>\n",
       "      <td>TÊNIS</td>\n",
       "      <td>NAPA TURIM</td>\n",
       "      <td>PRETO</td>\n",
       "      <td>41.12</td>\n",
       "    </tr>\n",
       "    <tr>\n",
       "      <th>56208</th>\n",
       "      <td>79011</td>\n",
       "      <td>SAPATILHAS</td>\n",
       "      <td>NAPA TURIM</td>\n",
       "      <td>CAMEL</td>\n",
       "      <td>42.22</td>\n",
       "    </tr>\n",
       "  </tbody>\n",
       "</table>\n",
       "<p>56209 rows × 5 columns</p>\n",
       "</div>"
      ],
      "text/plain": [
       "       id_produto tipo_produto                            material  \\\n",
       "0            1163        TÊNIS          GASPEA PRONTA LINHO LISBOA   \n",
       "1           76569    SANDÁLIAS             PELICA/NAPA PELE STRECH   \n",
       "2           59833    SANDÁLIAS                          NAPA TURIM   \n",
       "3             832        FLATS            TIRA PRONTA CAMURCA FLEX   \n",
       "4           21977    SANDÁLIAS       NAPA TURIM/TIRA PRONTA STRASS   \n",
       "...           ...          ...                                 ...   \n",
       "56204       76959      SAPATOS                NAPA FLOATHER NATURE   \n",
       "56205       78331      SAPATOS                          NAPA TURIM   \n",
       "56206       76606        TÊNIS  NAPA LINHO GLAM/METALIZADO PREMIUM   \n",
       "56207       78063        TÊNIS                          NAPA TURIM   \n",
       "56208       79011   SAPATILHAS                          NAPA TURIM   \n",
       "\n",
       "                            cor  preco  \n",
       "0                         PRETO  75.95  \n",
       "1                    BRANCO OFF  59.97  \n",
       "2                         PRETO  48.42  \n",
       "3                         PRETO  39.48  \n",
       "4      CRISTAL/CREME/BRANCO OFF  57.32  \n",
       "...                         ...    ...  \n",
       "56204                    ARGILA  94.19  \n",
       "56205                     PRETO  42.67  \n",
       "56206          NUDE/OURO ROSADO  62.58  \n",
       "56207                     PRETO  41.12  \n",
       "56208                     CAMEL  42.22  \n",
       "\n",
       "[56209 rows x 5 columns]"
      ]
     },
     "execution_count": 7,
     "metadata": {},
     "output_type": "execute_result"
    }
   ],
   "source": [
    "dfprodutos"
   ]
  },
  {
   "cell_type": "code",
   "execution_count": 8,
   "id": "7f1d0efe",
   "metadata": {},
   "outputs": [
    {
     "data": {
      "text/html": [
       "<div>\n",
       "<style scoped>\n",
       "    .dataframe tbody tr th:only-of-type {\n",
       "        vertical-align: middle;\n",
       "    }\n",
       "\n",
       "    .dataframe tbody tr th {\n",
       "        vertical-align: top;\n",
       "    }\n",
       "\n",
       "    .dataframe thead th {\n",
       "        text-align: right;\n",
       "    }\n",
       "</style>\n",
       "<table border=\"1\" class=\"dataframe\">\n",
       "  <thead>\n",
       "    <tr style=\"text-align: right;\">\n",
       "      <th></th>\n",
       "      <th>data</th>\n",
       "      <th>id_pedido</th>\n",
       "      <th>id_cliente</th>\n",
       "      <th>status</th>\n",
       "    </tr>\n",
       "  </thead>\n",
       "  <tbody>\n",
       "    <tr>\n",
       "      <th>0</th>\n",
       "      <td>2023-01-02</td>\n",
       "      <td>14233</td>\n",
       "      <td>935</td>\n",
       "      <td>faturado</td>\n",
       "    </tr>\n",
       "    <tr>\n",
       "      <th>1</th>\n",
       "      <td>2023-01-02</td>\n",
       "      <td>13835</td>\n",
       "      <td>20017</td>\n",
       "      <td>faturado</td>\n",
       "    </tr>\n",
       "    <tr>\n",
       "      <th>2</th>\n",
       "      <td>2023-01-02</td>\n",
       "      <td>13747</td>\n",
       "      <td>2192</td>\n",
       "      <td>faturado</td>\n",
       "    </tr>\n",
       "    <tr>\n",
       "      <th>3</th>\n",
       "      <td>2023-01-02</td>\n",
       "      <td>14303</td>\n",
       "      <td>262</td>\n",
       "      <td>cancelado</td>\n",
       "    </tr>\n",
       "    <tr>\n",
       "      <th>4</th>\n",
       "      <td>2023-01-02</td>\n",
       "      <td>13942</td>\n",
       "      <td>6612</td>\n",
       "      <td>faturado</td>\n",
       "    </tr>\n",
       "    <tr>\n",
       "      <th>...</th>\n",
       "      <td>...</td>\n",
       "      <td>...</td>\n",
       "      <td>...</td>\n",
       "      <td>...</td>\n",
       "    </tr>\n",
       "    <tr>\n",
       "      <th>607471</th>\n",
       "      <td>2025-03-31</td>\n",
       "      <td>882093</td>\n",
       "      <td>23515</td>\n",
       "      <td>faturado</td>\n",
       "    </tr>\n",
       "    <tr>\n",
       "      <th>607472</th>\n",
       "      <td>2025-03-31</td>\n",
       "      <td>880971</td>\n",
       "      <td>18471</td>\n",
       "      <td>faturado</td>\n",
       "    </tr>\n",
       "    <tr>\n",
       "      <th>607473</th>\n",
       "      <td>2025-03-31</td>\n",
       "      <td>880696</td>\n",
       "      <td>16610</td>\n",
       "      <td>faturado</td>\n",
       "    </tr>\n",
       "    <tr>\n",
       "      <th>607474</th>\n",
       "      <td>2025-03-31</td>\n",
       "      <td>880983</td>\n",
       "      <td>10430</td>\n",
       "      <td>aberto</td>\n",
       "    </tr>\n",
       "    <tr>\n",
       "      <th>607475</th>\n",
       "      <td>2025-03-31</td>\n",
       "      <td>881440</td>\n",
       "      <td>27813</td>\n",
       "      <td>faturado</td>\n",
       "    </tr>\n",
       "  </tbody>\n",
       "</table>\n",
       "<p>607476 rows × 4 columns</p>\n",
       "</div>"
      ],
      "text/plain": [
       "              data  id_pedido  id_cliente     status\n",
       "0       2023-01-02      14233         935   faturado\n",
       "1       2023-01-02      13835       20017   faturado\n",
       "2       2023-01-02      13747        2192   faturado\n",
       "3       2023-01-02      14303         262  cancelado\n",
       "4       2023-01-02      13942        6612   faturado\n",
       "...            ...        ...         ...        ...\n",
       "607471  2025-03-31     882093       23515   faturado\n",
       "607472  2025-03-31     880971       18471   faturado\n",
       "607473  2025-03-31     880696       16610   faturado\n",
       "607474  2025-03-31     880983       10430     aberto\n",
       "607475  2025-03-31     881440       27813   faturado\n",
       "\n",
       "[607476 rows x 4 columns]"
      ]
     },
     "execution_count": 8,
     "metadata": {},
     "output_type": "execute_result"
    }
   ],
   "source": [
    "dfvendas"
   ]
  },
  {
   "cell_type": "markdown",
   "id": "53886d7a",
   "metadata": {},
   "source": [
    "Depois de visualizar os dataframes, reconheci que talvez seja melhor juntar todos respeitando as chaves primárias e utilizando alguns left JOIN, em todos arquivos para unificar tudo em um arquivo só. Assim ficará interessante e mais fácil realizar análises:"
   ]
  },
  {
   "cell_type": "code",
   "execution_count": 9,
   "id": "88902efc",
   "metadata": {},
   "outputs": [],
   "source": [
    "df_main = dfvendas \\\n",
    "    .merge(dfpedidos, on=\"id_pedido\", how=\"left\") \\\n",
    "    .merge(dfprodutos, on=\"id_produto\", how=\"left\") \\\n",
    "    .merge(dfclientes, on=\"id_cliente\", how=\"left\")"
   ]
  },
  {
   "cell_type": "code",
   "execution_count": 10,
   "id": "626a2527",
   "metadata": {},
   "outputs": [
    {
     "data": {
      "text/html": [
       "<div>\n",
       "<style scoped>\n",
       "    .dataframe tbody tr th:only-of-type {\n",
       "        vertical-align: middle;\n",
       "    }\n",
       "\n",
       "    .dataframe tbody tr th {\n",
       "        vertical-align: top;\n",
       "    }\n",
       "\n",
       "    .dataframe thead th {\n",
       "        text-align: right;\n",
       "    }\n",
       "</style>\n",
       "<table border=\"1\" class=\"dataframe\">\n",
       "  <thead>\n",
       "    <tr style=\"text-align: right;\">\n",
       "      <th></th>\n",
       "      <th>data</th>\n",
       "      <th>id_pedido</th>\n",
       "      <th>id_cliente</th>\n",
       "      <th>status</th>\n",
       "      <th>id_produto</th>\n",
       "      <th>item</th>\n",
       "      <th>quantidade</th>\n",
       "      <th>desconto</th>\n",
       "      <th>tipo_produto</th>\n",
       "      <th>material</th>\n",
       "      <th>cor</th>\n",
       "      <th>preco</th>\n",
       "      <th>razao_social</th>\n",
       "      <th>pais</th>\n",
       "      <th>uf</th>\n",
       "      <th>municipio</th>\n",
       "    </tr>\n",
       "  </thead>\n",
       "  <tbody>\n",
       "    <tr>\n",
       "      <th>0</th>\n",
       "      <td>2023-01-02</td>\n",
       "      <td>14233</td>\n",
       "      <td>935</td>\n",
       "      <td>faturado</td>\n",
       "      <td>14676</td>\n",
       "      <td>1</td>\n",
       "      <td>12</td>\n",
       "      <td>-0.08</td>\n",
       "      <td>BOTAS</td>\n",
       "      <td>TELA VENEZA/NAPA BERLIM</td>\n",
       "      <td>PRETO</td>\n",
       "      <td>101.85</td>\n",
       "      <td>Das Neves</td>\n",
       "      <td>BRASIL</td>\n",
       "      <td>MG</td>\n",
       "      <td>ITAGUARA</td>\n",
       "    </tr>\n",
       "    <tr>\n",
       "      <th>1</th>\n",
       "      <td>2023-01-02</td>\n",
       "      <td>13835</td>\n",
       "      <td>20017</td>\n",
       "      <td>faturado</td>\n",
       "      <td>14786</td>\n",
       "      <td>1</td>\n",
       "      <td>16</td>\n",
       "      <td>-0.14</td>\n",
       "      <td>BOTAS</td>\n",
       "      <td>NAPA FLOATHER ZURIQUE/ELASTICO</td>\n",
       "      <td>PRETO</td>\n",
       "      <td>117.34</td>\n",
       "      <td>Alves - Ei</td>\n",
       "      <td>BRASIL</td>\n",
       "      <td>PR</td>\n",
       "      <td>CURITIBA</td>\n",
       "    </tr>\n",
       "    <tr>\n",
       "      <th>2</th>\n",
       "      <td>2023-01-02</td>\n",
       "      <td>13747</td>\n",
       "      <td>2192</td>\n",
       "      <td>faturado</td>\n",
       "      <td>16566</td>\n",
       "      <td>1</td>\n",
       "      <td>8</td>\n",
       "      <td>-0.08</td>\n",
       "      <td>BOTAS</td>\n",
       "      <td>METALIZADO LISBOA</td>\n",
       "      <td>GRAFITE</td>\n",
       "      <td>155.58</td>\n",
       "      <td>Fernandes</td>\n",
       "      <td>BRASIL</td>\n",
       "      <td>MG</td>\n",
       "      <td>VICOSA</td>\n",
       "    </tr>\n",
       "    <tr>\n",
       "      <th>3</th>\n",
       "      <td>2023-01-02</td>\n",
       "      <td>13747</td>\n",
       "      <td>2192</td>\n",
       "      <td>faturado</td>\n",
       "      <td>16438</td>\n",
       "      <td>2</td>\n",
       "      <td>8</td>\n",
       "      <td>-0.08</td>\n",
       "      <td>BOTAS</td>\n",
       "      <td>NAPA BERLIM</td>\n",
       "      <td>PRETO</td>\n",
       "      <td>144.92</td>\n",
       "      <td>Fernandes</td>\n",
       "      <td>BRASIL</td>\n",
       "      <td>MG</td>\n",
       "      <td>VICOSA</td>\n",
       "    </tr>\n",
       "    <tr>\n",
       "      <th>4</th>\n",
       "      <td>2023-01-02</td>\n",
       "      <td>14303</td>\n",
       "      <td>262</td>\n",
       "      <td>cancelado</td>\n",
       "      <td>8214</td>\n",
       "      <td>2</td>\n",
       "      <td>12</td>\n",
       "      <td>-0.17</td>\n",
       "      <td>SANDÁLIAS</td>\n",
       "      <td>NAPA FLOATHER NATURE</td>\n",
       "      <td>PRETO</td>\n",
       "      <td>70.43</td>\n",
       "      <td>Da Rosa</td>\n",
       "      <td>BRASIL</td>\n",
       "      <td>MG</td>\n",
       "      <td>BELO HORIZONTE</td>\n",
       "    </tr>\n",
       "    <tr>\n",
       "      <th>...</th>\n",
       "      <td>...</td>\n",
       "      <td>...</td>\n",
       "      <td>...</td>\n",
       "      <td>...</td>\n",
       "      <td>...</td>\n",
       "      <td>...</td>\n",
       "      <td>...</td>\n",
       "      <td>...</td>\n",
       "      <td>...</td>\n",
       "      <td>...</td>\n",
       "      <td>...</td>\n",
       "      <td>...</td>\n",
       "      <td>...</td>\n",
       "      <td>...</td>\n",
       "      <td>...</td>\n",
       "      <td>...</td>\n",
       "    </tr>\n",
       "    <tr>\n",
       "      <th>2024431</th>\n",
       "      <td>2025-03-31</td>\n",
       "      <td>880983</td>\n",
       "      <td>10430</td>\n",
       "      <td>aberto</td>\n",
       "      <td>67341</td>\n",
       "      <td>1</td>\n",
       "      <td>12</td>\n",
       "      <td>-0.08</td>\n",
       "      <td>SANDÁLIAS</td>\n",
       "      <td>PELICA/T P PELICA/T P PELE STRECH</td>\n",
       "      <td>BRANCO OFF</td>\n",
       "      <td>74.06</td>\n",
       "      <td>Da Cunha Costela - Ei</td>\n",
       "      <td>BRASIL</td>\n",
       "      <td>BA</td>\n",
       "      <td>SANTANA</td>\n",
       "    </tr>\n",
       "    <tr>\n",
       "      <th>2024432</th>\n",
       "      <td>2025-03-31</td>\n",
       "      <td>880983</td>\n",
       "      <td>10430</td>\n",
       "      <td>aberto</td>\n",
       "      <td>39036</td>\n",
       "      <td>2</td>\n",
       "      <td>12</td>\n",
       "      <td>-0.08</td>\n",
       "      <td>SANDÁLIAS</td>\n",
       "      <td>PELICA</td>\n",
       "      <td>BEGE</td>\n",
       "      <td>53.78</td>\n",
       "      <td>Da Cunha Costela - Ei</td>\n",
       "      <td>BRASIL</td>\n",
       "      <td>BA</td>\n",
       "      <td>SANTANA</td>\n",
       "    </tr>\n",
       "    <tr>\n",
       "      <th>2024433</th>\n",
       "      <td>2025-03-31</td>\n",
       "      <td>881440</td>\n",
       "      <td>27813</td>\n",
       "      <td>faturado</td>\n",
       "      <td>59636</td>\n",
       "      <td>3</td>\n",
       "      <td>12</td>\n",
       "      <td>-0.06</td>\n",
       "      <td>FLATS</td>\n",
       "      <td>NP FLOAT NAT/NP LEZ PARIS/TI FLOREN</td>\n",
       "      <td>CREME/BRANCO-CRISTAL</td>\n",
       "      <td>49.47</td>\n",
       "      <td>Da Rosa</td>\n",
       "      <td>BRASIL</td>\n",
       "      <td>MG</td>\n",
       "      <td>MANHUACU</td>\n",
       "    </tr>\n",
       "    <tr>\n",
       "      <th>2024434</th>\n",
       "      <td>2025-03-31</td>\n",
       "      <td>881440</td>\n",
       "      <td>27813</td>\n",
       "      <td>faturado</td>\n",
       "      <td>51315</td>\n",
       "      <td>2</td>\n",
       "      <td>12</td>\n",
       "      <td>-0.06</td>\n",
       "      <td>FLATS</td>\n",
       "      <td>NP FLOATHER NATURE/TIRA FLORENCA</td>\n",
       "      <td>PRETO/CRISTAL</td>\n",
       "      <td>44.45</td>\n",
       "      <td>Da Rosa</td>\n",
       "      <td>BRASIL</td>\n",
       "      <td>MG</td>\n",
       "      <td>MANHUACU</td>\n",
       "    </tr>\n",
       "    <tr>\n",
       "      <th>2024435</th>\n",
       "      <td>2025-03-31</td>\n",
       "      <td>881440</td>\n",
       "      <td>27813</td>\n",
       "      <td>faturado</td>\n",
       "      <td>51311</td>\n",
       "      <td>1</td>\n",
       "      <td>12</td>\n",
       "      <td>-0.06</td>\n",
       "      <td>FLATS</td>\n",
       "      <td>MET PREMIUM/NP NEW CRAQ/TI FLORENCA</td>\n",
       "      <td>OURO ROSADO/NUDE/CRISTAL</td>\n",
       "      <td>48.84</td>\n",
       "      <td>Da Rosa</td>\n",
       "      <td>BRASIL</td>\n",
       "      <td>MG</td>\n",
       "      <td>MANHUACU</td>\n",
       "    </tr>\n",
       "  </tbody>\n",
       "</table>\n",
       "<p>2024436 rows × 16 columns</p>\n",
       "</div>"
      ],
      "text/plain": [
       "               data  id_pedido  id_cliente     status  id_produto  item  \\\n",
       "0        2023-01-02      14233         935   faturado       14676     1   \n",
       "1        2023-01-02      13835       20017   faturado       14786     1   \n",
       "2        2023-01-02      13747        2192   faturado       16566     1   \n",
       "3        2023-01-02      13747        2192   faturado       16438     2   \n",
       "4        2023-01-02      14303         262  cancelado        8214     2   \n",
       "...             ...        ...         ...        ...         ...   ...   \n",
       "2024431  2025-03-31     880983       10430     aberto       67341     1   \n",
       "2024432  2025-03-31     880983       10430     aberto       39036     2   \n",
       "2024433  2025-03-31     881440       27813   faturado       59636     3   \n",
       "2024434  2025-03-31     881440       27813   faturado       51315     2   \n",
       "2024435  2025-03-31     881440       27813   faturado       51311     1   \n",
       "\n",
       "         quantidade  desconto tipo_produto  \\\n",
       "0                12     -0.08        BOTAS   \n",
       "1                16     -0.14        BOTAS   \n",
       "2                 8     -0.08        BOTAS   \n",
       "3                 8     -0.08        BOTAS   \n",
       "4                12     -0.17    SANDÁLIAS   \n",
       "...             ...       ...          ...   \n",
       "2024431          12     -0.08    SANDÁLIAS   \n",
       "2024432          12     -0.08    SANDÁLIAS   \n",
       "2024433          12     -0.06        FLATS   \n",
       "2024434          12     -0.06        FLATS   \n",
       "2024435          12     -0.06        FLATS   \n",
       "\n",
       "                                    material                       cor  preco  \\\n",
       "0                    TELA VENEZA/NAPA BERLIM                     PRETO 101.85   \n",
       "1             NAPA FLOATHER ZURIQUE/ELASTICO                     PRETO 117.34   \n",
       "2                          METALIZADO LISBOA                   GRAFITE 155.58   \n",
       "3                                NAPA BERLIM                     PRETO 144.92   \n",
       "4                       NAPA FLOATHER NATURE                     PRETO  70.43   \n",
       "...                                      ...                       ...    ...   \n",
       "2024431    PELICA/T P PELICA/T P PELE STRECH                BRANCO OFF  74.06   \n",
       "2024432                               PELICA                      BEGE  53.78   \n",
       "2024433  NP FLOAT NAT/NP LEZ PARIS/TI FLOREN      CREME/BRANCO-CRISTAL  49.47   \n",
       "2024434     NP FLOATHER NATURE/TIRA FLORENCA             PRETO/CRISTAL  44.45   \n",
       "2024435  MET PREMIUM/NP NEW CRAQ/TI FLORENCA  OURO ROSADO/NUDE/CRISTAL  48.84   \n",
       "\n",
       "                  razao_social    pais  uf       municipio  \n",
       "0                    Das Neves  BRASIL  MG        ITAGUARA  \n",
       "1                   Alves - Ei  BRASIL  PR        CURITIBA  \n",
       "2                    Fernandes  BRASIL  MG          VICOSA  \n",
       "3                    Fernandes  BRASIL  MG          VICOSA  \n",
       "4                      Da Rosa  BRASIL  MG  BELO HORIZONTE  \n",
       "...                        ...     ...  ..             ...  \n",
       "2024431  Da Cunha Costela - Ei  BRASIL  BA         SANTANA  \n",
       "2024432  Da Cunha Costela - Ei  BRASIL  BA         SANTANA  \n",
       "2024433                Da Rosa  BRASIL  MG        MANHUACU  \n",
       "2024434                Da Rosa  BRASIL  MG        MANHUACU  \n",
       "2024435                Da Rosa  BRASIL  MG        MANHUACU  \n",
       "\n",
       "[2024436 rows x 16 columns]"
      ]
     },
     "execution_count": 10,
     "metadata": {},
     "output_type": "execute_result"
    }
   ],
   "source": [
    "df_main"
   ]
  },
  {
   "cell_type": "code",
   "execution_count": 11,
   "id": "fdfdaba5",
   "metadata": {},
   "outputs": [
    {
     "data": {
      "text/plain": [
       "data             object\n",
       "id_pedido         int64\n",
       "id_cliente        int64\n",
       "status           object\n",
       "id_produto        int64\n",
       "item              int64\n",
       "quantidade        int64\n",
       "desconto        float64\n",
       "tipo_produto     object\n",
       "material         object\n",
       "cor              object\n",
       "preco           float64\n",
       "razao_social     object\n",
       "pais             object\n",
       "uf               object\n",
       "municipio        object\n",
       "dtype: object"
      ]
     },
     "execution_count": 11,
     "metadata": {},
     "output_type": "execute_result"
    }
   ],
   "source": [
    "df_main.dtypes"
   ]
  },
  {
   "cell_type": "code",
   "execution_count": 12,
   "id": "ad31b85f",
   "metadata": {},
   "outputs": [],
   "source": [
    "df_main['data'] = pd.to_datetime(df_main['data'])"
   ]
  },
  {
   "cell_type": "code",
   "execution_count": 13,
   "id": "7bd76f74",
   "metadata": {},
   "outputs": [
    {
     "data": {
      "text/plain": [
       "data            datetime64[ns]\n",
       "id_pedido                int64\n",
       "id_cliente               int64\n",
       "status                  object\n",
       "id_produto               int64\n",
       "item                     int64\n",
       "quantidade               int64\n",
       "desconto               float64\n",
       "tipo_produto            object\n",
       "material                object\n",
       "cor                     object\n",
       "preco                  float64\n",
       "razao_social            object\n",
       "pais                    object\n",
       "uf                      object\n",
       "municipio               object\n",
       "dtype: object"
      ]
     },
     "execution_count": 13,
     "metadata": {},
     "output_type": "execute_result"
    }
   ],
   "source": [
    "df_main.dtypes"
   ]
  },
  {
   "cell_type": "markdown",
   "id": "66104925",
   "metadata": {},
   "source": [
    "Procedimento para conversão da coluna data para padrão brasileiro."
   ]
  },
  {
   "cell_type": "code",
   "execution_count": 14,
   "id": "4fa2f96d",
   "metadata": {},
   "outputs": [],
   "source": [
    "df_main['data'] = df_main['data'].dt.strftime('%d/%m/%Y')"
   ]
  },
  {
   "cell_type": "code",
   "execution_count": 15,
   "id": "1f2293e4",
   "metadata": {},
   "outputs": [
    {
     "data": {
      "text/html": [
       "<div>\n",
       "<style scoped>\n",
       "    .dataframe tbody tr th:only-of-type {\n",
       "        vertical-align: middle;\n",
       "    }\n",
       "\n",
       "    .dataframe tbody tr th {\n",
       "        vertical-align: top;\n",
       "    }\n",
       "\n",
       "    .dataframe thead th {\n",
       "        text-align: right;\n",
       "    }\n",
       "</style>\n",
       "<table border=\"1\" class=\"dataframe\">\n",
       "  <thead>\n",
       "    <tr style=\"text-align: right;\">\n",
       "      <th></th>\n",
       "      <th>data</th>\n",
       "      <th>id_pedido</th>\n",
       "      <th>id_cliente</th>\n",
       "      <th>status</th>\n",
       "      <th>id_produto</th>\n",
       "      <th>item</th>\n",
       "      <th>quantidade</th>\n",
       "      <th>desconto</th>\n",
       "      <th>tipo_produto</th>\n",
       "      <th>material</th>\n",
       "      <th>cor</th>\n",
       "      <th>preco</th>\n",
       "      <th>razao_social</th>\n",
       "      <th>pais</th>\n",
       "      <th>uf</th>\n",
       "      <th>municipio</th>\n",
       "    </tr>\n",
       "  </thead>\n",
       "  <tbody>\n",
       "    <tr>\n",
       "      <th>0</th>\n",
       "      <td>02/01/2023</td>\n",
       "      <td>14233</td>\n",
       "      <td>935</td>\n",
       "      <td>faturado</td>\n",
       "      <td>14676</td>\n",
       "      <td>1</td>\n",
       "      <td>12</td>\n",
       "      <td>-0.08</td>\n",
       "      <td>BOTAS</td>\n",
       "      <td>TELA VENEZA/NAPA BERLIM</td>\n",
       "      <td>PRETO</td>\n",
       "      <td>101.85</td>\n",
       "      <td>Das Neves</td>\n",
       "      <td>BRASIL</td>\n",
       "      <td>MG</td>\n",
       "      <td>ITAGUARA</td>\n",
       "    </tr>\n",
       "    <tr>\n",
       "      <th>1</th>\n",
       "      <td>02/01/2023</td>\n",
       "      <td>13835</td>\n",
       "      <td>20017</td>\n",
       "      <td>faturado</td>\n",
       "      <td>14786</td>\n",
       "      <td>1</td>\n",
       "      <td>16</td>\n",
       "      <td>-0.14</td>\n",
       "      <td>BOTAS</td>\n",
       "      <td>NAPA FLOATHER ZURIQUE/ELASTICO</td>\n",
       "      <td>PRETO</td>\n",
       "      <td>117.34</td>\n",
       "      <td>Alves - Ei</td>\n",
       "      <td>BRASIL</td>\n",
       "      <td>PR</td>\n",
       "      <td>CURITIBA</td>\n",
       "    </tr>\n",
       "    <tr>\n",
       "      <th>2</th>\n",
       "      <td>02/01/2023</td>\n",
       "      <td>13747</td>\n",
       "      <td>2192</td>\n",
       "      <td>faturado</td>\n",
       "      <td>16566</td>\n",
       "      <td>1</td>\n",
       "      <td>8</td>\n",
       "      <td>-0.08</td>\n",
       "      <td>BOTAS</td>\n",
       "      <td>METALIZADO LISBOA</td>\n",
       "      <td>GRAFITE</td>\n",
       "      <td>155.58</td>\n",
       "      <td>Fernandes</td>\n",
       "      <td>BRASIL</td>\n",
       "      <td>MG</td>\n",
       "      <td>VICOSA</td>\n",
       "    </tr>\n",
       "    <tr>\n",
       "      <th>3</th>\n",
       "      <td>02/01/2023</td>\n",
       "      <td>13747</td>\n",
       "      <td>2192</td>\n",
       "      <td>faturado</td>\n",
       "      <td>16438</td>\n",
       "      <td>2</td>\n",
       "      <td>8</td>\n",
       "      <td>-0.08</td>\n",
       "      <td>BOTAS</td>\n",
       "      <td>NAPA BERLIM</td>\n",
       "      <td>PRETO</td>\n",
       "      <td>144.92</td>\n",
       "      <td>Fernandes</td>\n",
       "      <td>BRASIL</td>\n",
       "      <td>MG</td>\n",
       "      <td>VICOSA</td>\n",
       "    </tr>\n",
       "    <tr>\n",
       "      <th>4</th>\n",
       "      <td>02/01/2023</td>\n",
       "      <td>14303</td>\n",
       "      <td>262</td>\n",
       "      <td>cancelado</td>\n",
       "      <td>8214</td>\n",
       "      <td>2</td>\n",
       "      <td>12</td>\n",
       "      <td>-0.17</td>\n",
       "      <td>SANDÁLIAS</td>\n",
       "      <td>NAPA FLOATHER NATURE</td>\n",
       "      <td>PRETO</td>\n",
       "      <td>70.43</td>\n",
       "      <td>Da Rosa</td>\n",
       "      <td>BRASIL</td>\n",
       "      <td>MG</td>\n",
       "      <td>BELO HORIZONTE</td>\n",
       "    </tr>\n",
       "    <tr>\n",
       "      <th>...</th>\n",
       "      <td>...</td>\n",
       "      <td>...</td>\n",
       "      <td>...</td>\n",
       "      <td>...</td>\n",
       "      <td>...</td>\n",
       "      <td>...</td>\n",
       "      <td>...</td>\n",
       "      <td>...</td>\n",
       "      <td>...</td>\n",
       "      <td>...</td>\n",
       "      <td>...</td>\n",
       "      <td>...</td>\n",
       "      <td>...</td>\n",
       "      <td>...</td>\n",
       "      <td>...</td>\n",
       "      <td>...</td>\n",
       "    </tr>\n",
       "    <tr>\n",
       "      <th>2024431</th>\n",
       "      <td>31/03/2025</td>\n",
       "      <td>880983</td>\n",
       "      <td>10430</td>\n",
       "      <td>aberto</td>\n",
       "      <td>67341</td>\n",
       "      <td>1</td>\n",
       "      <td>12</td>\n",
       "      <td>-0.08</td>\n",
       "      <td>SANDÁLIAS</td>\n",
       "      <td>PELICA/T P PELICA/T P PELE STRECH</td>\n",
       "      <td>BRANCO OFF</td>\n",
       "      <td>74.06</td>\n",
       "      <td>Da Cunha Costela - Ei</td>\n",
       "      <td>BRASIL</td>\n",
       "      <td>BA</td>\n",
       "      <td>SANTANA</td>\n",
       "    </tr>\n",
       "    <tr>\n",
       "      <th>2024432</th>\n",
       "      <td>31/03/2025</td>\n",
       "      <td>880983</td>\n",
       "      <td>10430</td>\n",
       "      <td>aberto</td>\n",
       "      <td>39036</td>\n",
       "      <td>2</td>\n",
       "      <td>12</td>\n",
       "      <td>-0.08</td>\n",
       "      <td>SANDÁLIAS</td>\n",
       "      <td>PELICA</td>\n",
       "      <td>BEGE</td>\n",
       "      <td>53.78</td>\n",
       "      <td>Da Cunha Costela - Ei</td>\n",
       "      <td>BRASIL</td>\n",
       "      <td>BA</td>\n",
       "      <td>SANTANA</td>\n",
       "    </tr>\n",
       "    <tr>\n",
       "      <th>2024433</th>\n",
       "      <td>31/03/2025</td>\n",
       "      <td>881440</td>\n",
       "      <td>27813</td>\n",
       "      <td>faturado</td>\n",
       "      <td>59636</td>\n",
       "      <td>3</td>\n",
       "      <td>12</td>\n",
       "      <td>-0.06</td>\n",
       "      <td>FLATS</td>\n",
       "      <td>NP FLOAT NAT/NP LEZ PARIS/TI FLOREN</td>\n",
       "      <td>CREME/BRANCO-CRISTAL</td>\n",
       "      <td>49.47</td>\n",
       "      <td>Da Rosa</td>\n",
       "      <td>BRASIL</td>\n",
       "      <td>MG</td>\n",
       "      <td>MANHUACU</td>\n",
       "    </tr>\n",
       "    <tr>\n",
       "      <th>2024434</th>\n",
       "      <td>31/03/2025</td>\n",
       "      <td>881440</td>\n",
       "      <td>27813</td>\n",
       "      <td>faturado</td>\n",
       "      <td>51315</td>\n",
       "      <td>2</td>\n",
       "      <td>12</td>\n",
       "      <td>-0.06</td>\n",
       "      <td>FLATS</td>\n",
       "      <td>NP FLOATHER NATURE/TIRA FLORENCA</td>\n",
       "      <td>PRETO/CRISTAL</td>\n",
       "      <td>44.45</td>\n",
       "      <td>Da Rosa</td>\n",
       "      <td>BRASIL</td>\n",
       "      <td>MG</td>\n",
       "      <td>MANHUACU</td>\n",
       "    </tr>\n",
       "    <tr>\n",
       "      <th>2024435</th>\n",
       "      <td>31/03/2025</td>\n",
       "      <td>881440</td>\n",
       "      <td>27813</td>\n",
       "      <td>faturado</td>\n",
       "      <td>51311</td>\n",
       "      <td>1</td>\n",
       "      <td>12</td>\n",
       "      <td>-0.06</td>\n",
       "      <td>FLATS</td>\n",
       "      <td>MET PREMIUM/NP NEW CRAQ/TI FLORENCA</td>\n",
       "      <td>OURO ROSADO/NUDE/CRISTAL</td>\n",
       "      <td>48.84</td>\n",
       "      <td>Da Rosa</td>\n",
       "      <td>BRASIL</td>\n",
       "      <td>MG</td>\n",
       "      <td>MANHUACU</td>\n",
       "    </tr>\n",
       "  </tbody>\n",
       "</table>\n",
       "<p>2024436 rows × 16 columns</p>\n",
       "</div>"
      ],
      "text/plain": [
       "               data  id_pedido  id_cliente     status  id_produto  item  \\\n",
       "0        02/01/2023      14233         935   faturado       14676     1   \n",
       "1        02/01/2023      13835       20017   faturado       14786     1   \n",
       "2        02/01/2023      13747        2192   faturado       16566     1   \n",
       "3        02/01/2023      13747        2192   faturado       16438     2   \n",
       "4        02/01/2023      14303         262  cancelado        8214     2   \n",
       "...             ...        ...         ...        ...         ...   ...   \n",
       "2024431  31/03/2025     880983       10430     aberto       67341     1   \n",
       "2024432  31/03/2025     880983       10430     aberto       39036     2   \n",
       "2024433  31/03/2025     881440       27813   faturado       59636     3   \n",
       "2024434  31/03/2025     881440       27813   faturado       51315     2   \n",
       "2024435  31/03/2025     881440       27813   faturado       51311     1   \n",
       "\n",
       "         quantidade  desconto tipo_produto  \\\n",
       "0                12     -0.08        BOTAS   \n",
       "1                16     -0.14        BOTAS   \n",
       "2                 8     -0.08        BOTAS   \n",
       "3                 8     -0.08        BOTAS   \n",
       "4                12     -0.17    SANDÁLIAS   \n",
       "...             ...       ...          ...   \n",
       "2024431          12     -0.08    SANDÁLIAS   \n",
       "2024432          12     -0.08    SANDÁLIAS   \n",
       "2024433          12     -0.06        FLATS   \n",
       "2024434          12     -0.06        FLATS   \n",
       "2024435          12     -0.06        FLATS   \n",
       "\n",
       "                                    material                       cor  preco  \\\n",
       "0                    TELA VENEZA/NAPA BERLIM                     PRETO 101.85   \n",
       "1             NAPA FLOATHER ZURIQUE/ELASTICO                     PRETO 117.34   \n",
       "2                          METALIZADO LISBOA                   GRAFITE 155.58   \n",
       "3                                NAPA BERLIM                     PRETO 144.92   \n",
       "4                       NAPA FLOATHER NATURE                     PRETO  70.43   \n",
       "...                                      ...                       ...    ...   \n",
       "2024431    PELICA/T P PELICA/T P PELE STRECH                BRANCO OFF  74.06   \n",
       "2024432                               PELICA                      BEGE  53.78   \n",
       "2024433  NP FLOAT NAT/NP LEZ PARIS/TI FLOREN      CREME/BRANCO-CRISTAL  49.47   \n",
       "2024434     NP FLOATHER NATURE/TIRA FLORENCA             PRETO/CRISTAL  44.45   \n",
       "2024435  MET PREMIUM/NP NEW CRAQ/TI FLORENCA  OURO ROSADO/NUDE/CRISTAL  48.84   \n",
       "\n",
       "                  razao_social    pais  uf       municipio  \n",
       "0                    Das Neves  BRASIL  MG        ITAGUARA  \n",
       "1                   Alves - Ei  BRASIL  PR        CURITIBA  \n",
       "2                    Fernandes  BRASIL  MG          VICOSA  \n",
       "3                    Fernandes  BRASIL  MG          VICOSA  \n",
       "4                      Da Rosa  BRASIL  MG  BELO HORIZONTE  \n",
       "...                        ...     ...  ..             ...  \n",
       "2024431  Da Cunha Costela - Ei  BRASIL  BA         SANTANA  \n",
       "2024432  Da Cunha Costela - Ei  BRASIL  BA         SANTANA  \n",
       "2024433                Da Rosa  BRASIL  MG        MANHUACU  \n",
       "2024434                Da Rosa  BRASIL  MG        MANHUACU  \n",
       "2024435                Da Rosa  BRASIL  MG        MANHUACU  \n",
       "\n",
       "[2024436 rows x 16 columns]"
      ]
     },
     "execution_count": 15,
     "metadata": {},
     "output_type": "execute_result"
    }
   ],
   "source": [
    "df_main"
   ]
  },
  {
   "cell_type": "code",
   "execution_count": 16,
   "id": "48290637",
   "metadata": {},
   "outputs": [],
   "source": [
    "df_main.to_csv('bancofull.csv', index=False, encoding='utf-8-sig')"
   ]
  },
  {
   "cell_type": "markdown",
   "id": "ac43f1df",
   "metadata": {},
   "source": [
    "Tem muitas colunas com tipos incorretos, iniciando processo de conversão."
   ]
  },
  {
   "cell_type": "code",
   "execution_count": 17,
   "id": "3a123309",
   "metadata": {},
   "outputs": [],
   "source": [
    "df_main['data'] = pd.to_datetime(df_main['data'], dayfirst=True)\n",
    "\n"
   ]
  },
  {
   "cell_type": "code",
   "execution_count": 18,
   "id": "044e1d84",
   "metadata": {},
   "outputs": [
    {
     "data": {
      "text/plain": [
       "data            datetime64[ns]\n",
       "id_pedido                int64\n",
       "id_cliente               int64\n",
       "status                  object\n",
       "id_produto               int64\n",
       "item                     int64\n",
       "quantidade               int64\n",
       "desconto               float64\n",
       "tipo_produto            object\n",
       "material                object\n",
       "cor                     object\n",
       "preco                  float64\n",
       "razao_social            object\n",
       "pais                    object\n",
       "uf                      object\n",
       "municipio               object\n",
       "dtype: object"
      ]
     },
     "execution_count": 18,
     "metadata": {},
     "output_type": "execute_result"
    }
   ],
   "source": [
    "df_main.dtypes"
   ]
  },
  {
   "cell_type": "code",
   "execution_count": 19,
   "id": "2e91fb3e",
   "metadata": {},
   "outputs": [],
   "source": [
    "df_main['id_pedido'] = df_main['id_pedido'].astype(str)\n",
    "df_main['id_cliente'] = df_main['id_cliente'].astype(str)\n",
    "df_main['id_produto'] = df_main['id_produto'].astype(str)\n"
   ]
  },
  {
   "cell_type": "code",
   "execution_count": 20,
   "id": "48ac1bf5",
   "metadata": {},
   "outputs": [
    {
     "data": {
      "text/plain": [
       "data            datetime64[ns]\n",
       "id_pedido               object\n",
       "id_cliente              object\n",
       "status                  object\n",
       "id_produto              object\n",
       "item                     int64\n",
       "quantidade               int64\n",
       "desconto               float64\n",
       "tipo_produto            object\n",
       "material                object\n",
       "cor                     object\n",
       "preco                  float64\n",
       "razao_social            object\n",
       "pais                    object\n",
       "uf                      object\n",
       "municipio               object\n",
       "dtype: object"
      ]
     },
     "execution_count": 20,
     "metadata": {},
     "output_type": "execute_result"
    }
   ],
   "source": [
    "df_main.dtypes"
   ]
  },
  {
   "cell_type": "code",
   "execution_count": 21,
   "id": "f499f1c0",
   "metadata": {},
   "outputs": [
    {
     "data": {
      "text/plain": [
       "data             0\n",
       "id_pedido        0\n",
       "id_cliente       0\n",
       "status           0\n",
       "id_produto       0\n",
       "item             0\n",
       "quantidade       0\n",
       "desconto         0\n",
       "tipo_produto     2\n",
       "material         0\n",
       "cor              0\n",
       "preco            0\n",
       "razao_social     0\n",
       "pais             0\n",
       "uf              34\n",
       "municipio        0\n",
       "dtype: int64"
      ]
     },
     "execution_count": 21,
     "metadata": {},
     "output_type": "execute_result"
    }
   ],
   "source": [
    "df_main.isna().sum()"
   ]
  },
  {
   "cell_type": "markdown",
   "id": "eec170db",
   "metadata": {},
   "source": [
    "Verificando linhas duplicadas"
   ]
  },
  {
   "cell_type": "code",
   "execution_count": 22,
   "id": "22756884",
   "metadata": {},
   "outputs": [
    {
     "data": {
      "text/html": [
       "<div>\n",
       "<style scoped>\n",
       "    .dataframe tbody tr th:only-of-type {\n",
       "        vertical-align: middle;\n",
       "    }\n",
       "\n",
       "    .dataframe tbody tr th {\n",
       "        vertical-align: top;\n",
       "    }\n",
       "\n",
       "    .dataframe thead th {\n",
       "        text-align: right;\n",
       "    }\n",
       "</style>\n",
       "<table border=\"1\" class=\"dataframe\">\n",
       "  <thead>\n",
       "    <tr style=\"text-align: right;\">\n",
       "      <th></th>\n",
       "      <th>data</th>\n",
       "      <th>id_pedido</th>\n",
       "      <th>id_cliente</th>\n",
       "      <th>status</th>\n",
       "      <th>id_produto</th>\n",
       "      <th>item</th>\n",
       "      <th>quantidade</th>\n",
       "      <th>desconto</th>\n",
       "      <th>tipo_produto</th>\n",
       "      <th>material</th>\n",
       "      <th>cor</th>\n",
       "      <th>preco</th>\n",
       "      <th>razao_social</th>\n",
       "      <th>pais</th>\n",
       "      <th>uf</th>\n",
       "      <th>municipio</th>\n",
       "      <th>size</th>\n",
       "    </tr>\n",
       "  </thead>\n",
       "  <tbody>\n",
       "  </tbody>\n",
       "</table>\n",
       "</div>"
      ],
      "text/plain": [
       "Empty DataFrame\n",
       "Columns: [data, id_pedido, id_cliente, status, id_produto, item, quantidade, desconto, tipo_produto, material, cor, preco, razao_social, pais, uf, municipio, size]\n",
       "Index: []"
      ]
     },
     "execution_count": 22,
     "metadata": {},
     "output_type": "execute_result"
    }
   ],
   "source": [
    "duplicados = df_main.groupby(df_main.columns.tolist(),as_index=False).size()\n",
    "duplicados[duplicados[\"size\"]>1]"
   ]
  },
  {
   "cell_type": "code",
   "execution_count": 23,
   "id": "30dd7019",
   "metadata": {},
   "outputs": [
    {
     "data": {
      "text/plain": [
       "2024436"
      ]
     },
     "execution_count": 23,
     "metadata": {},
     "output_type": "execute_result"
    }
   ],
   "source": [
    "len(df_main)"
   ]
  },
  {
   "cell_type": "markdown",
   "id": "387c3cf9",
   "metadata": {},
   "source": [
    "Calculando frequencia de valores"
   ]
  },
  {
   "cell_type": "code",
   "execution_count": 24,
   "id": "6a42b0d8",
   "metadata": {},
   "outputs": [],
   "source": [
    "freqstatus = df_main['status'].value_counts()\n",
    "freqproduto = df_main['tipo_produto'].value_counts()\n",
    "freqmunicipio = df_main['municipio'].value_counts()\n",
    "freqrazaosocial = df_main['razao_social'].value_counts()\n"
   ]
  },
  {
   "cell_type": "code",
   "execution_count": 25,
   "id": "554cc2e2",
   "metadata": {},
   "outputs": [],
   "source": [
    "porc_status = df_main['status'].value_counts(normalize=True) * 100\n",
    "porc_produto = df_main['tipo_produto'].value_counts(normalize=True) * 100\n",
    "porc_municipio = df_main['municipio'].value_counts(normalize=True) * 100\n",
    "porc_razaosocial = df_main['razao_social'].value_counts(normalize=True) * 100"
   ]
  },
  {
   "cell_type": "code",
   "execution_count": 26,
   "id": "8c9498c1",
   "metadata": {},
   "outputs": [
    {
     "data": {
      "text/plain": [
       "Text(0, 0.5, 'Frequência em porcentagem')"
      ]
     },
     "execution_count": 26,
     "metadata": {},
     "output_type": "execute_result"
    },
    {
     "data": {
      "image/png": "[encoded data removed]",
      "text/plain": [
       "<Figure size 1200x500 with 1 Axes>"
      ]
     },
     "metadata": {},
     "output_type": "display_data"
    }
   ],
   "source": [
    "plt.figure(figsize=(12,5))\n",
    "porc_status.plot(kind='bar', color='skyblue')\n",
    "plt.title('Frequência de Status da Compra')\n",
    "plt.xlabel('Status')\n",
    "plt.ylabel('Frequência em porcentagem')"
   ]
  },
  {
   "cell_type": "code",
   "execution_count": 27,
   "id": "23d05c92",
   "metadata": {},
   "outputs": [
    {
     "data": {
      "text/plain": [
       "status\n",
       "faturado    95.88\n",
       "cancelado    3.00\n",
       "aberto       1.12\n",
       "Name: proportion, dtype: float64"
      ]
     },
     "execution_count": 27,
     "metadata": {},
     "output_type": "execute_result"
    }
   ],
   "source": [
    "porc_status"
   ]
  },
  {
   "cell_type": "code",
   "execution_count": 28,
   "id": "74dfccd8",
   "metadata": {},
   "outputs": [
    {
     "data": {
      "text/plain": [
       "Text(0, 0.5, 'Frequência em Quantidades')"
      ]
     },
     "execution_count": 28,
     "metadata": {},
     "output_type": "execute_result"
    },
    {
     "data": {
      "image/png": "[encoded data removed]",
      "text/plain": [
       "<Figure size 1200x500 with 1 Axes>"
      ]
     },
     "metadata": {},
     "output_type": "display_data"
    }
   ],
   "source": [
    "plt.figure(figsize=(12,5))\n",
    "freqmunicipio.head(15).plot(kind='bar', color='skyblue')\n",
    "plt.title('Frequência de Compras por município')\n",
    "plt.xlabel('Município')\n",
    "plt.ylabel('Frequência em Quantidades')"
   ]
  },
  {
   "cell_type": "code",
   "execution_count": 29,
   "id": "f9fda4dd",
   "metadata": {},
   "outputs": [
    {
     "data": {
      "text/plain": [
       "municipio\n",
       "SAO PAULO                  3.54\n",
       "CIDADE DO MEXICO           1.53\n",
       "RIO DE JANEIRO             1.21\n",
       "BELO HORIZONTE             1.07\n",
       "CURITIBA                   1.02\n",
       "SALVADOR                   0.78\n",
       "BRASILIA                   0.76\n",
       "GOIANIA                    0.67\n",
       "CAMPO GRANDE               0.60\n",
       "CIDADE DEL ESTE            0.59\n",
       "ASSUNCION                  0.57\n",
       "BUENOS AIRES - ARGENTINA   0.57\n",
       "FLORIANOPOLIS              0.55\n",
       "MANAUS                     0.55\n",
       "FOZ DO IGUACU              0.50\n",
       "Name: proportion, dtype: float64"
      ]
     },
     "execution_count": 29,
     "metadata": {},
     "output_type": "execute_result"
    }
   ],
   "source": [
    "porc_municipio.head(15)"
   ]
  },
  {
   "cell_type": "code",
   "execution_count": 30,
   "id": "788df332",
   "metadata": {},
   "outputs": [
    {
     "data": {
      "text/plain": [
       "municipio\n",
       "SAO PAULO                   71749\n",
       "CIDADE DO MEXICO            30985\n",
       "RIO DE JANEIRO              24524\n",
       "BELO HORIZONTE              21729\n",
       "CURITIBA                    20716\n",
       "SALVADOR                    15814\n",
       "BRASILIA                    15345\n",
       "GOIANIA                     13546\n",
       "CAMPO GRANDE                12187\n",
       "CIDADE DEL ESTE             11851\n",
       "ASSUNCION                   11608\n",
       "BUENOS AIRES - ARGENTINA    11482\n",
       "FLORIANOPOLIS               11198\n",
       "MANAUS                      11081\n",
       "FOZ DO IGUACU               10099\n",
       "Name: count, dtype: int64"
      ]
     },
     "execution_count": 30,
     "metadata": {},
     "output_type": "execute_result"
    }
   ],
   "source": [
    "freqmunicipio.head(15)"
   ]
  },
  {
   "cell_type": "code",
   "execution_count": 31,
   "id": "1373c588",
   "metadata": {},
   "outputs": [
    {
     "data": {
      "text/plain": [
       "Text(0, 0.5, 'Frequência em Quantidade')"
      ]
     },
     "execution_count": 31,
     "metadata": {},
     "output_type": "execute_result"
    },
    {
     "data": {
      "image/png": "[encoded data removed]",
      "text/plain": [
       "<Figure size 1200x500 with 1 Axes>"
      ]
     },
     "metadata": {},
     "output_type": "display_data"
    }
   ],
   "source": [
    "plt.figure(figsize=(12,5))\n",
    "freqproduto.head(15).plot(kind='bar', color='skyblue')\n",
    "plt.title('Frequência de Compras por Produto')\n",
    "plt.xlabel('Produto')\n",
    "plt.ylabel('Frequência em Quantidade')"
   ]
  },
  {
   "cell_type": "code",
   "execution_count": 32,
   "id": "bdf90fa5",
   "metadata": {},
   "outputs": [
    {
     "data": {
      "text/plain": [
       "tipo_produto\n",
       "SANDÁLIAS              29.23\n",
       "FLATS                  21.94\n",
       "TÊNIS                  18.67\n",
       "SAPATILHAS              7.62\n",
       "SAPATOS                 6.04\n",
       "CASUAL                  5.17\n",
       "BOTAS                   3.81\n",
       "SANDÁLIAS MASCULINAS    2.44\n",
       "SCARPINS                2.32\n",
       "CANO MEDIO              0.66\n",
       "INVISIVEL               0.44\n",
       "ESCOLAR                 0.31\n",
       "SAPATILHA               0.20\n",
       "CANO CURTO              0.20\n",
       "FESTAS                  0.15\n",
       "Name: proportion, dtype: float64"
      ]
     },
     "execution_count": 32,
     "metadata": {},
     "output_type": "execute_result"
    }
   ],
   "source": [
    "porc_produto.head(15)"
   ]
  },
  {
   "cell_type": "code",
   "execution_count": 33,
   "id": "7ee36fc1",
   "metadata": {},
   "outputs": [
    {
     "data": {
      "text/plain": [
       "tipo_produto\n",
       "SANDÁLIAS               591759\n",
       "FLATS                   444218\n",
       "TÊNIS                   377947\n",
       "SAPATILHAS              154334\n",
       "SAPATOS                 122229\n",
       "CASUAL                  104703\n",
       "BOTAS                    77129\n",
       "SANDÁLIAS MASCULINAS     49360\n",
       "SCARPINS                 47040\n",
       "CANO MEDIO               13421\n",
       "INVISIVEL                 8966\n",
       "ESCOLAR                   6215\n",
       "SAPATILHA                 4080\n",
       "CANO CURTO                4011\n",
       "FESTAS                    3114\n",
       "Name: count, dtype: int64"
      ]
     },
     "execution_count": 33,
     "metadata": {},
     "output_type": "execute_result"
    }
   ],
   "source": [
    "freqproduto.head(15)"
   ]
  },
  {
   "cell_type": "code",
   "execution_count": 34,
   "id": "635226a6",
   "metadata": {},
   "outputs": [
    {
     "data": {
      "text/plain": [
       "Text(0, 0.5, 'Frequência em Quantidade')"
      ]
     },
     "execution_count": 34,
     "metadata": {},
     "output_type": "execute_result"
    },
    {
     "data": {
      "image/png": "[encoded data removed]",
      "text/plain": [
       "<Figure size 1200x500 with 1 Axes>"
      ]
     },
     "metadata": {},
     "output_type": "display_data"
    }
   ],
   "source": [
    "plt.figure(figsize=(12,5))\n",
    "freqrazaosocial.head(15).plot(kind='bar', color='skyblue')\n",
    "plt.title('Frequência de Compras por Produto')\n",
    "plt.xlabel('Produto')\n",
    "plt.ylabel('Frequência em Quantidade')"
   ]
  },
  {
   "cell_type": "code",
   "execution_count": 35,
   "id": "778e5c13",
   "metadata": {},
   "outputs": [
    {
     "data": {
      "text/plain": [
       "razao_social\n",
       "Ferreira                   38634\n",
       "Cunha                      18774\n",
       "Pastor                     18277\n",
       "Costa                      16028\n",
       "Cirino                     15766\n",
       "Cavalcanti                 14673\n",
       "Carvalho                   13861\n",
       "Castro                     13373\n",
       "Moura                      13110\n",
       "Marques                    12982\n",
       "Souza                      12750\n",
       "Rezende                    12452\n",
       "Costa S/A                  12214\n",
       "Moreira                    11649\n",
       "Farias Andrade E Filhos    11618\n",
       "Name: count, dtype: int64"
      ]
     },
     "execution_count": 35,
     "metadata": {},
     "output_type": "execute_result"
    }
   ],
   "source": [
    "freqrazaosocial.head(15)"
   ]
  },
  {
   "cell_type": "code",
   "execution_count": 36,
   "id": "b943637b",
   "metadata": {},
   "outputs": [
    {
     "data": {
      "text/plain": [
       "razao_social\n",
       "Ferreira                  1.91\n",
       "Cunha                     0.93\n",
       "Pastor                    0.90\n",
       "Costa                     0.79\n",
       "Cirino                    0.78\n",
       "Cavalcanti                0.72\n",
       "Carvalho                  0.68\n",
       "Castro                    0.66\n",
       "Moura                     0.65\n",
       "Marques                   0.64\n",
       "Souza                     0.63\n",
       "Rezende                   0.62\n",
       "Costa S/A                 0.60\n",
       "Moreira                   0.58\n",
       "Farias Andrade E Filhos   0.57\n",
       "Name: proportion, dtype: float64"
      ]
     },
     "execution_count": 36,
     "metadata": {},
     "output_type": "execute_result"
    }
   ],
   "source": [
    "porc_razaosocial.head(15)"
   ]
  },
  {
   "cell_type": "code",
   "execution_count": 37,
   "id": "f1a79e1e",
   "metadata": {},
   "outputs": [
    {
     "data": {
      "text/html": [
       "<div>\n",
       "<style scoped>\n",
       "    .dataframe tbody tr th:only-of-type {\n",
       "        vertical-align: middle;\n",
       "    }\n",
       "\n",
       "    .dataframe tbody tr th {\n",
       "        vertical-align: top;\n",
       "    }\n",
       "\n",
       "    .dataframe thead th {\n",
       "        text-align: right;\n",
       "    }\n",
       "</style>\n",
       "<table border=\"1\" class=\"dataframe\">\n",
       "  <thead>\n",
       "    <tr style=\"text-align: right;\">\n",
       "      <th></th>\n",
       "      <th>data</th>\n",
       "      <th>item</th>\n",
       "      <th>quantidade</th>\n",
       "      <th>desconto</th>\n",
       "      <th>preco</th>\n",
       "    </tr>\n",
       "  </thead>\n",
       "  <tbody>\n",
       "    <tr>\n",
       "      <th>count</th>\n",
       "      <td>2024436</td>\n",
       "      <td>2024436.00</td>\n",
       "      <td>2024436.00</td>\n",
       "      <td>2024436.00</td>\n",
       "      <td>2024436.00</td>\n",
       "    </tr>\n",
       "    <tr>\n",
       "      <th>mean</th>\n",
       "      <td>2024-02-16 04:47:42.920044288</td>\n",
       "      <td>3.94</td>\n",
       "      <td>18.68</td>\n",
       "      <td>0.24</td>\n",
       "      <td>54.01</td>\n",
       "    </tr>\n",
       "    <tr>\n",
       "      <th>min</th>\n",
       "      <td>2023-01-02 00:00:00</td>\n",
       "      <td>1.00</td>\n",
       "      <td>1.00</td>\n",
       "      <td>-0.92</td>\n",
       "      <td>2.54</td>\n",
       "    </tr>\n",
       "    <tr>\n",
       "      <th>25%</th>\n",
       "      <td>2023-07-31 00:00:00</td>\n",
       "      <td>1.00</td>\n",
       "      <td>12.00</td>\n",
       "      <td>-0.12</td>\n",
       "      <td>41.37</td>\n",
       "    </tr>\n",
       "    <tr>\n",
       "      <th>50%</th>\n",
       "      <td>2024-02-16 00:00:00</td>\n",
       "      <td>2.00</td>\n",
       "      <td>12.00</td>\n",
       "      <td>-0.08</td>\n",
       "      <td>54.03</td>\n",
       "    </tr>\n",
       "    <tr>\n",
       "      <th>75%</th>\n",
       "      <td>2024-09-03 00:00:00</td>\n",
       "      <td>4.00</td>\n",
       "      <td>12.00</td>\n",
       "      <td>0.00</td>\n",
       "      <td>66.01</td>\n",
       "    </tr>\n",
       "    <tr>\n",
       "      <th>max</th>\n",
       "      <td>2025-03-31 00:00:00</td>\n",
       "      <td>99.00</td>\n",
       "      <td>25008.00</td>\n",
       "      <td>11.45</td>\n",
       "      <td>205.22</td>\n",
       "    </tr>\n",
       "    <tr>\n",
       "      <th>std</th>\n",
       "      <td>NaN</td>\n",
       "      <td>6.37</td>\n",
       "      <td>67.68</td>\n",
       "      <td>1.19</td>\n",
       "      <td>21.76</td>\n",
       "    </tr>\n",
       "  </tbody>\n",
       "</table>\n",
       "</div>"
      ],
      "text/plain": [
       "                                data       item  quantidade   desconto  \\\n",
       "count                        2024436 2024436.00  2024436.00 2024436.00   \n",
       "mean   2024-02-16 04:47:42.920044288       3.94       18.68       0.24   \n",
       "min              2023-01-02 00:00:00       1.00        1.00      -0.92   \n",
       "25%              2023-07-31 00:00:00       1.00       12.00      -0.12   \n",
       "50%              2024-02-16 00:00:00       2.00       12.00      -0.08   \n",
       "75%              2024-09-03 00:00:00       4.00       12.00       0.00   \n",
       "max              2025-03-31 00:00:00      99.00    25008.00      11.45   \n",
       "std                              NaN       6.37       67.68       1.19   \n",
       "\n",
       "           preco  \n",
       "count 2024436.00  \n",
       "mean       54.01  \n",
       "min         2.54  \n",
       "25%        41.37  \n",
       "50%        54.03  \n",
       "75%        66.01  \n",
       "max       205.22  \n",
       "std        21.76  "
      ]
     },
     "execution_count": 37,
     "metadata": {},
     "output_type": "execute_result"
    }
   ],
   "source": [
    "df_main.describe()"
   ]
  },
  {
   "cell_type": "markdown",
   "id": "2e3796d0",
   "metadata": {},
   "source": [
    "RETIRANDO AS MEDIAS GERAIS"
   ]
  },
  {
   "cell_type": "code",
   "execution_count": 38,
   "id": "9edae491",
   "metadata": {},
   "outputs": [],
   "source": [
    "# Calcular média de todas as colunas numéricas\n",
    "mednumb = df_main.mean(numeric_only=True)\n",
    "\n",
    "# Calcular mediana de todas as colunas numéricas\n",
    "mediananumb = df_main.median(numeric_only=True)"
   ]
  },
  {
   "cell_type": "code",
   "execution_count": 40,
   "id": "378702cd",
   "metadata": {},
   "outputs": [
    {
     "name": "stdout",
     "output_type": "stream",
     "text": [
      "item          3.94\n",
      "quantidade   18.68\n",
      "desconto      0.24\n",
      "preco        54.01\n",
      "dtype: float64\n",
      "item          2.00\n",
      "quantidade   12.00\n",
      "desconto     -0.08\n",
      "preco        54.03\n",
      "dtype: float64\n"
     ]
    }
   ],
   "source": [
    "print(mednumb)\n",
    "print(mediananumb)"
   ]
  },
  {
   "cell_type": "markdown",
   "id": "0bc5295a",
   "metadata": {},
   "source": [
    "AMPLITUDE"
   ]
  },
  {
   "cell_type": "code",
   "execution_count": 46,
   "id": "013821fd",
   "metadata": {},
   "outputs": [
    {
     "name": "stdout",
     "output_type": "stream",
     "text": [
      "['item', 'quantidade', 'desconto', 'preco']\n"
     ]
    }
   ],
   "source": [
    "dfnumb = df_main.select_dtypes(include=['number']).columns.tolist()\n",
    "print (dfnumb)"
   ]
  },
  {
   "cell_type": "code",
   "execution_count": 47,
   "id": "88479ef5",
   "metadata": {},
   "outputs": [
    {
     "data": {
      "text/html": [
       "<div>\n",
       "<style scoped>\n",
       "    .dataframe tbody tr th:only-of-type {\n",
       "        vertical-align: middle;\n",
       "    }\n",
       "\n",
       "    .dataframe tbody tr th {\n",
       "        vertical-align: top;\n",
       "    }\n",
       "\n",
       "    .dataframe thead th {\n",
       "        text-align: right;\n",
       "    }\n",
       "</style>\n",
       "<table border=\"1\" class=\"dataframe\">\n",
       "  <thead>\n",
       "    <tr style=\"text-align: right;\">\n",
       "      <th></th>\n",
       "      <th>item</th>\n",
       "      <th>quantidade</th>\n",
       "      <th>desconto</th>\n",
       "      <th>preco</th>\n",
       "    </tr>\n",
       "  </thead>\n",
       "  <tbody>\n",
       "    <tr>\n",
       "      <th>count</th>\n",
       "      <td>2024436.00</td>\n",
       "      <td>2024436.00</td>\n",
       "      <td>2024436.00</td>\n",
       "      <td>2024436.00</td>\n",
       "    </tr>\n",
       "    <tr>\n",
       "      <th>mean</th>\n",
       "      <td>3.94</td>\n",
       "      <td>18.68</td>\n",
       "      <td>0.24</td>\n",
       "      <td>54.01</td>\n",
       "    </tr>\n",
       "    <tr>\n",
       "      <th>std</th>\n",
       "      <td>6.37</td>\n",
       "      <td>67.68</td>\n",
       "      <td>1.19</td>\n",
       "      <td>21.76</td>\n",
       "    </tr>\n",
       "    <tr>\n",
       "      <th>min</th>\n",
       "      <td>1.00</td>\n",
       "      <td>1.00</td>\n",
       "      <td>-0.92</td>\n",
       "      <td>2.54</td>\n",
       "    </tr>\n",
       "    <tr>\n",
       "      <th>25%</th>\n",
       "      <td>1.00</td>\n",
       "      <td>12.00</td>\n",
       "      <td>-0.12</td>\n",
       "      <td>41.37</td>\n",
       "    </tr>\n",
       "    <tr>\n",
       "      <th>50%</th>\n",
       "      <td>2.00</td>\n",
       "      <td>12.00</td>\n",
       "      <td>-0.08</td>\n",
       "      <td>54.03</td>\n",
       "    </tr>\n",
       "    <tr>\n",
       "      <th>75%</th>\n",
       "      <td>4.00</td>\n",
       "      <td>12.00</td>\n",
       "      <td>0.00</td>\n",
       "      <td>66.01</td>\n",
       "    </tr>\n",
       "    <tr>\n",
       "      <th>max</th>\n",
       "      <td>99.00</td>\n",
       "      <td>25008.00</td>\n",
       "      <td>11.45</td>\n",
       "      <td>205.22</td>\n",
       "    </tr>\n",
       "  </tbody>\n",
       "</table>\n",
       "</div>"
      ],
      "text/plain": [
       "            item  quantidade   desconto      preco\n",
       "count 2024436.00  2024436.00 2024436.00 2024436.00\n",
       "mean        3.94       18.68       0.24      54.01\n",
       "std         6.37       67.68       1.19      21.76\n",
       "min         1.00        1.00      -0.92       2.54\n",
       "25%         1.00       12.00      -0.12      41.37\n",
       "50%         2.00       12.00      -0.08      54.03\n",
       "75%         4.00       12.00       0.00      66.01\n",
       "max        99.00    25008.00      11.45     205.22"
      ]
     },
     "execution_count": 47,
     "metadata": {},
     "output_type": "execute_result"
    }
   ],
   "source": [
    "df_main[dfnumb].describe()"
   ]
  },
  {
   "cell_type": "code",
   "execution_count": 51,
   "id": "2fb0060b",
   "metadata": {},
   "outputs": [
    {
     "name": "stdout",
     "output_type": "stream",
     "text": [
      "A amplitude da item é:  98\n",
      "A amplitude da quantidade é:  25007\n",
      "A amplitude da desconto é:  12.36986343943891\n",
      "A amplitude da preco é:  202.68\n"
     ]
    }
   ],
   "source": [
    "for variavel in dfnumb:\n",
    "    amplitude = df_main[variavel].max() - df_main[variavel].min()\n",
    "    print(f\"A amplitude da {variavel} é: \",amplitude)"
   ]
  },
  {
   "cell_type": "code",
   "execution_count": 54,
   "id": "f5e8013d",
   "metadata": {},
   "outputs": [
    {
     "data": {
      "text/plain": [
       "item           40.60\n",
       "quantidade   4580.95\n",
       "desconto        1.42\n",
       "preco         473.40\n",
       "dtype: float64"
      ]
     },
     "execution_count": 54,
     "metadata": {},
     "output_type": "execute_result"
    }
   ],
   "source": [
    "df_main[dfnumb].var()"
   ]
  },
  {
   "cell_type": "markdown",
   "id": "a861524d",
   "metadata": {},
   "source": [
    "BOXPLOT PARA VISUALIZAR DADOS E OUTLIERS\n"
   ]
  },
  {
   "cell_type": "code",
   "execution_count": 78,
   "id": "ea6f3b6c",
   "metadata": {},
   "outputs": [
    {
     "data": {
      "text/plain": [
       "item          1.00\n",
       "quantidade   12.00\n",
       "desconto     -0.12\n",
       "preco        41.37\n",
       "Name: 0.25, dtype: float64"
      ]
     },
     "execution_count": 78,
     "metadata": {},
     "output_type": "execute_result"
    }
   ],
   "source": [
    "df_main[dfnumb].quantile(0.25)\n"
   ]
  },
  {
   "cell_type": "code",
   "execution_count": 83,
   "id": "7e960a7e",
   "metadata": {},
   "outputs": [
    {
     "data": {
      "text/plain": [
       "<function matplotlib.pyplot.show(close=None, block=None)>"
      ]
     },
     "execution_count": 83,
     "metadata": {},
     "output_type": "execute_result"
    },
    {
     "data": {
      "image/png": "[encoded data removed]",
      "text/plain": [
       "<Figure size 1200x500 with 1 Axes>"
      ]
     },
     "metadata": {},
     "output_type": "display_data"
    }
   ],
   "source": [
    "plt.figure(figsize=(12, 5))\n",
    "plt.boxplot(df_main['quantidade'], tick_labels=['Item'])\n",
    "plt.title('Boxplot da Variável item')\n",
    "plt.ylabel('Valores')\n",
    "plt.show"
   ]
  },
  {
   "cell_type": "code",
   "execution_count": 82,
   "id": "e81f335a",
   "metadata": {},
   "outputs": [
    {
     "name": "stdout",
     "output_type": "stream",
     "text": [
      "Quantidade acima de 4: 6649\n",
      "Total de dados: 2024436\n"
     ]
    }
   ],
   "source": [
    "print(\"Quantidade acima de 4:\", (df_main['quantidade'] <2).sum())\n",
    "print(\"Total de dados:\", df_main['item'].count())"
   ]
  },
  {
   "cell_type": "markdown",
   "id": "5cf1200f",
   "metadata": {},
   "source": [
    "Fixando Quartis"
   ]
  },
  {
   "cell_type": "code",
   "execution_count": 79,
   "id": "3cfe8e6c",
   "metadata": {},
   "outputs": [],
   "source": [
    "Q1=df_main[dfnumb].quantile(0.25)\n",
    "Q3=df_main[dfnumb].quantile(0.75)"
   ]
  },
  {
   "cell_type": "code",
   "execution_count": 80,
   "id": "18da5c3f",
   "metadata": {},
   "outputs": [
    {
     "data": {
      "text/plain": [
       "item          3.00\n",
       "quantidade    0.00\n",
       "desconto      0.12\n",
       "preco        24.64\n",
       "dtype: float64"
      ]
     },
     "execution_count": 80,
     "metadata": {},
     "output_type": "execute_result"
    }
   ],
   "source": [
    "IQR= Q3 - Q1\n",
    "IQR"
   ]
  },
  {
   "cell_type": "code",
   "execution_count": 84,
   "id": "aae5a7fc",
   "metadata": {},
   "outputs": [
    {
     "data": {
      "text/plain": [
       "0          12\n",
       "1          16\n",
       "2           8\n",
       "3           8\n",
       "4          12\n",
       "           ..\n",
       "2024431    12\n",
       "2024432    12\n",
       "2024433    12\n",
       "2024434    12\n",
       "2024435    12\n",
       "Name: quantidade, Length: 2024436, dtype: int64"
      ]
     },
     "execution_count": 84,
     "metadata": {},
     "output_type": "execute_result"
    }
   ],
   "source": [
    "df_main['quantidade']"
   ]
  },
  {
   "cell_type": "code",
   "execution_count": 85,
   "id": "a139b9e8",
   "metadata": {},
   "outputs": [
    {
     "data": {
      "text/plain": [
       "count   2024436.00\n",
       "mean         18.68\n",
       "std          67.68\n",
       "min           1.00\n",
       "25%          12.00\n",
       "50%          12.00\n",
       "75%          12.00\n",
       "max       25008.00\n",
       "Name: quantidade, dtype: float64"
      ]
     },
     "execution_count": 85,
     "metadata": {},
     "output_type": "execute_result"
    }
   ],
   "source": [
    "df_main['quantidade'].describe()"
   ]
  },
  {
   "cell_type": "code",
   "execution_count": 87,
   "id": "a49cc5b6",
   "metadata": {},
   "outputs": [
    {
     "data": {
      "image/png": "[encoded data removed]",
      "text/plain": [
       "<Figure size 640x480 with 1 Axes>"
      ]
     },
     "metadata": {},
     "output_type": "display_data"
    }
   ],
   "source": [
    "df_main['quantidade'].hist()\n",
    "plt.title('Distribuição da Quantidade de Itens')\n",
    "plt.show()"
   ]
  },
  {
   "cell_type": "code",
   "execution_count": 89,
   "id": "e8121236",
   "metadata": {},
   "outputs": [
    {
     "data": {
      "image/png": "[encoded data removed]",
      "text/plain": [
       "<Figure size 1200x600 with 2 Axes>"
      ]
     },
     "metadata": {},
     "output_type": "display_data"
    },
    {
     "name": "stdout",
     "output_type": "stream",
     "text": [
      "\n",
      "Top 10 maiores valores:\n",
      "1925028    25008\n",
      "1711492    12000\n",
      "920400     10008\n",
      "920401     10008\n",
      "1695211    10008\n",
      "1145864     7992\n",
      "508644      6216\n",
      "1161622     6132\n",
      "898897      6096\n",
      "1481569     6000\n",
      "Name: quantidade, dtype: int64\n"
     ]
    }
   ],
   "source": [
    "# Análise consolidada\n",
    "import matplotlib.pyplot as plt\n",
    "\n",
    "plt.figure(figsize=(12, 6))\n",
    "plt.subplot(1, 2, 1)\n",
    "df_main['quantidade'].plot(kind='box')\n",
    "plt.title('Boxplot Original')\n",
    "\n",
    "plt.subplot(1, 2, 2)\n",
    "df_main[df_main['quantidade'] <= 12]['quantidade'].plot(kind='box')\n",
    "plt.title('Boxplot (12 itens)')\n",
    "plt.show()\n",
    "\n",
    "# Top 10 valores mais altos\n",
    "print(\"\\nTop 10 maiores valores:\")\n",
    "print(df_main['quantidade'].nlargest(10))"
   ]
  }
 ],
 "metadata": {
  "kernelspec": {
   "display_name": "Python 3",
   "language": "python",
   "name": "python3"
  },
  "language_info": {
   "codemirror_mode": {
    "name": "ipython",
    "version": 3
   },
   "file_extension": ".py",
   "mimetype": "text/x-python",
   "name": "python",
   "nbconvert_exporter": "python",
   "pygments_lexer": "ipython3",
   "version": "3.13.5"
  }
 },
 "nbformat": 4,
 "nbformat_minor": 5
}
